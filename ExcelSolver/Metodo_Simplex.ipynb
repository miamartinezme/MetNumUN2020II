{
  "nbformat": 4,
  "nbformat_minor": 0,
  "metadata": {
    "colab": {
      "name": "Metodo Simplex.ipynb",
      "provenance": []
    },
    "kernelspec": {
      "name": "python3",
      "display_name": "Python 3"
    }
  },
  "cells": [
    {
      "cell_type": "code",
      "metadata": {
        "id": "4BgIQ6tOpNAc"
      },
      "source": [
        "import numpy as np\r\n",
        "from IPython.display import Math"
      ],
      "execution_count": null,
      "outputs": []
    },
    {
      "cell_type": "code",
      "metadata": {
        "id": "kkeB3rGapO_b"
      },
      "source": [
        "class simplex:\r\n",
        "  s=[]\r\n",
        "  a=[]\r\n",
        "  ma_1=[]\r\n",
        "  def __init__(self,Z,m='max'):\r\n",
        "    self.tipo=m\r\n",
        "    self.s=[]\r\n",
        "    self.a=[]\r\n",
        "    self.ma_1=[]\r\n",
        "    Z.append(0)\r\n",
        "    F=-np.array(Z)\r\n",
        "    self.ma_1.append(F)\r\n",
        "\r\n",
        "\r\n",
        "  #Crear la matrix para simplex\r\n",
        "  def solvet(self):\r\n",
        "    if (max(self.a))>0:\r\n",
        "      ma=np.zeros((len(self.ma_1),len(self.ma_1[0])+2*len(self.s)+2))\r\n",
        "      ma[0][0]=1\r\n",
        "      for i in range(len(self.ma_1[0])-1):\r\n",
        "        for j in range(len(self.ma_1)):\r\n",
        "          ma[j][i+1]=self.ma_1[j][i]\r\n",
        "\r\n",
        "          if i==0:\r\n",
        "            ma[j][-1]=self.ma_1[j][-1]\r\n",
        "            if j>0:\r\n",
        "              ma[j][len(self.ma_1[0])+j]=self.s[j-1]\r\n",
        "              ma[j][len(self.ma_1[0])+len(self.s)+j]=self.a[j-1]\r\n",
        "    else:\r\n",
        "      ma=np.zeros((len(self.ma_1),len(self.ma_1[0])+len(self.s)+2))\r\n",
        "      ma[0][0]=1\r\n",
        "      for i in range(len(self.ma_1[0])-1):\r\n",
        "        for j in range(len(self.ma_1)):\r\n",
        "          ma[j][i+1]=self.ma_1[j][i]\r\n",
        "\r\n",
        "          if i==0:\r\n",
        "            ma[j][-1]=self.ma_1[j][-1]\r\n",
        "            if j>0:\r\n",
        "              ma[j][len(self.ma_1[0])+j]=self.s[j-1]\r\n",
        "    \r\n",
        "    return self.Itera_simplex(ma,len(self.ma_1[0])-1)\r\n",
        "\r\n",
        "  # Crea una restrincion \r\n",
        "  def add_res(self,matrix,tipo):\r\n",
        "    if tipo=='<':\r\n",
        "      self.s.append(1)\r\n",
        "      self.a.append(0)\r\n",
        "    elif tipo=='>':\r\n",
        "      self.s.append(-1)\r\n",
        "      self.a.append(1)\r\n",
        "    elif tipo=='=':\r\n",
        "      self.s.append(0)\r\n",
        "      self.a.append(1)\r\n",
        "    self.ma_1.append(matrix)\r\n",
        "\r\n",
        "  def Itera_simplex(self,tabla_simplex,n):\r\n",
        "    # tabla_simplex: matriz del método\r\n",
        "    # n: número de variables de deción\r\n",
        "    tabla_simplex = tabla_simplex.astype(np.float32)\r\n",
        "    if (tabla_simplex[0,1:n+1] >= 0).sum() == n: # pregunta si todas las variables son positivas\r\n",
        "      sol = []\r\n",
        "      for i in range(n+1):\r\n",
        "        index, = np.where(tabla_simplex[:,i] == 1) # guarda el index de la posición del 1 en la columna i \r\n",
        "        if type(index) != int: # el metodo where devuelve un arreglo en caso del elemento este repetido\r\n",
        "          index = index[0]\r\n",
        "        sol.append(tabla_simplex[index,-1]) # Agrega el valor del index en la columna de los resultados \r\n",
        "      return np.array(sol) #vector de salida array: [z,x_1,x_2,...,x_n]\r\n",
        "    else:\r\n",
        "      colum_pivote = np.argmin(tabla_simplex[0,1:n+1]) + 1 # guarda la columna de el más negativo de las x_i\r\n",
        "      menor = np.inf\r\n",
        "\r\n",
        "      # encuentra la fila  de el más pequeño de dividir la columna de los resultados entre la de la columna pivote\r\n",
        "      # desechando las diviciónes por 0 o números negativos  \r\n",
        "      for i in range(1,len(tabla_simplex[:,0])):\r\n",
        "        if tabla_simplex[i,colum_pivote] > 0:\r\n",
        "          if tabla_simplex[i,-1]/tabla_simplex[i,colum_pivote] < menor:\r\n",
        "            menor = tabla_simplex[i,-1]/tabla_simplex[i,colum_pivote]\r\n",
        "            fila_pivote = i \r\n",
        "\r\n",
        "      # divide la fila pivote por el pivote encontrado\r\n",
        "      tabla_simplex[fila_pivote,:] = tabla_simplex[fila_pivote,:]/(tabla_simplex[fila_pivote,colum_pivote])\r\n",
        "\r\n",
        "      # operaciónes de filas para hacer 0 los otros valores de la columna pivote\r\n",
        "      for i in range(len(tabla_simplex)):\r\n",
        "        if i != fila_pivote:\r\n",
        "          tabla_simplex[i,:] = tabla_simplex[i,:] - tabla_simplex[i,colum_pivote]*tabla_simplex[fila_pivote,:]\r\n",
        "      return Itera_simplex(tabla_simplex,n) # recursión del método"
      ],
      "execution_count": null,
      "outputs": []
    },
    {
      "cell_type": "code",
      "metadata": {
        "colab": {
          "base_uri": "https://localhost:8080/",
          "height": 340
        },
        "id": "fNwDwfWSpWb9",
        "outputId": "02ec1757-3df2-4827-d437-90ad005d2ea9"
      },
      "source": [
        "a=simplex([7,4])\r\n",
        "a.add_res([2,1,20],'<')\r\n",
        "a.add_res([1,1,18],'<')\r\n",
        "a.add_res([1,0,8],'<')\r\n",
        "d=a.solvet()\r\n",
        "\r\n",
        "for i,valor in enumerate(d[1:]):\r\n",
        "  display(Math('x_{} = {}'.format(i,valor)))\r\n"
      ],
      "execution_count": null,
      "outputs": [
        {
          "output_type": "error",
          "ename": "NameError",
          "evalue": "ignored",
          "traceback": [
            "\u001b[0;31m---------------------------------------------------------------------------\u001b[0m",
            "\u001b[0;31mNameError\u001b[0m                                 Traceback (most recent call last)",
            "\u001b[0;32m<ipython-input-3-d920c8ba7b73>\u001b[0m in \u001b[0;36m<module>\u001b[0;34m()\u001b[0m\n\u001b[1;32m      3\u001b[0m \u001b[0ma\u001b[0m\u001b[0;34m.\u001b[0m\u001b[0madd_res\u001b[0m\u001b[0;34m(\u001b[0m\u001b[0;34m[\u001b[0m\u001b[0;36m1\u001b[0m\u001b[0;34m,\u001b[0m\u001b[0;36m1\u001b[0m\u001b[0;34m,\u001b[0m\u001b[0;36m18\u001b[0m\u001b[0;34m]\u001b[0m\u001b[0;34m,\u001b[0m\u001b[0;34m'<'\u001b[0m\u001b[0;34m)\u001b[0m\u001b[0;34m\u001b[0m\u001b[0;34m\u001b[0m\u001b[0m\n\u001b[1;32m      4\u001b[0m \u001b[0ma\u001b[0m\u001b[0;34m.\u001b[0m\u001b[0madd_res\u001b[0m\u001b[0;34m(\u001b[0m\u001b[0;34m[\u001b[0m\u001b[0;36m1\u001b[0m\u001b[0;34m,\u001b[0m\u001b[0;36m0\u001b[0m\u001b[0;34m,\u001b[0m\u001b[0;36m8\u001b[0m\u001b[0;34m]\u001b[0m\u001b[0;34m,\u001b[0m\u001b[0;34m'<'\u001b[0m\u001b[0;34m)\u001b[0m\u001b[0;34m\u001b[0m\u001b[0;34m\u001b[0m\u001b[0m\n\u001b[0;32m----> 5\u001b[0;31m \u001b[0md\u001b[0m\u001b[0;34m=\u001b[0m\u001b[0ma\u001b[0m\u001b[0;34m.\u001b[0m\u001b[0msolvet\u001b[0m\u001b[0;34m(\u001b[0m\u001b[0;34m)\u001b[0m\u001b[0;34m\u001b[0m\u001b[0;34m\u001b[0m\u001b[0m\n\u001b[0m\u001b[1;32m      6\u001b[0m \u001b[0;34m\u001b[0m\u001b[0m\n\u001b[1;32m      7\u001b[0m \u001b[0;32mfor\u001b[0m \u001b[0mi\u001b[0m\u001b[0;34m,\u001b[0m\u001b[0mvalor\u001b[0m \u001b[0;32min\u001b[0m \u001b[0menumerate\u001b[0m\u001b[0;34m(\u001b[0m\u001b[0md\u001b[0m\u001b[0;34m[\u001b[0m\u001b[0;36m1\u001b[0m\u001b[0;34m:\u001b[0m\u001b[0;34m]\u001b[0m\u001b[0;34m)\u001b[0m\u001b[0;34m:\u001b[0m\u001b[0;34m\u001b[0m\u001b[0;34m\u001b[0m\u001b[0m\n",
            "\u001b[0;32m<ipython-input-2-0f699733efb8>\u001b[0m in \u001b[0;36msolvet\u001b[0;34m(self)\u001b[0m\n\u001b[1;32m     39\u001b[0m               \u001b[0mma\u001b[0m\u001b[0;34m[\u001b[0m\u001b[0mj\u001b[0m\u001b[0;34m]\u001b[0m\u001b[0;34m[\u001b[0m\u001b[0mlen\u001b[0m\u001b[0;34m(\u001b[0m\u001b[0mself\u001b[0m\u001b[0;34m.\u001b[0m\u001b[0mma_1\u001b[0m\u001b[0;34m[\u001b[0m\u001b[0;36m0\u001b[0m\u001b[0;34m]\u001b[0m\u001b[0;34m)\u001b[0m\u001b[0;34m+\u001b[0m\u001b[0mj\u001b[0m\u001b[0;34m]\u001b[0m\u001b[0;34m=\u001b[0m\u001b[0mself\u001b[0m\u001b[0;34m.\u001b[0m\u001b[0ms\u001b[0m\u001b[0;34m[\u001b[0m\u001b[0mj\u001b[0m\u001b[0;34m-\u001b[0m\u001b[0;36m1\u001b[0m\u001b[0;34m]\u001b[0m\u001b[0;34m\u001b[0m\u001b[0;34m\u001b[0m\u001b[0m\n\u001b[1;32m     40\u001b[0m \u001b[0;34m\u001b[0m\u001b[0m\n\u001b[0;32m---> 41\u001b[0;31m     \u001b[0;32mreturn\u001b[0m \u001b[0mself\u001b[0m\u001b[0;34m.\u001b[0m\u001b[0mItera_simplex\u001b[0m\u001b[0;34m(\u001b[0m\u001b[0mma\u001b[0m\u001b[0;34m,\u001b[0m\u001b[0mlen\u001b[0m\u001b[0;34m(\u001b[0m\u001b[0mself\u001b[0m\u001b[0;34m.\u001b[0m\u001b[0mma_1\u001b[0m\u001b[0;34m[\u001b[0m\u001b[0;36m0\u001b[0m\u001b[0;34m]\u001b[0m\u001b[0;34m)\u001b[0m\u001b[0;34m-\u001b[0m\u001b[0;36m1\u001b[0m\u001b[0;34m)\u001b[0m\u001b[0;34m\u001b[0m\u001b[0;34m\u001b[0m\u001b[0m\n\u001b[0m\u001b[1;32m     42\u001b[0m \u001b[0;34m\u001b[0m\u001b[0m\n\u001b[1;32m     43\u001b[0m   \u001b[0;31m# Crea una restrincion\u001b[0m\u001b[0;34m\u001b[0m\u001b[0;34m\u001b[0m\u001b[0;34m\u001b[0m\u001b[0m\n",
            "\u001b[0;32m<ipython-input-2-0f699733efb8>\u001b[0m in \u001b[0;36mItera_simplex\u001b[0;34m(self, tabla_simplex, n)\u001b[0m\n\u001b[1;32m     85\u001b[0m         \u001b[0;32mif\u001b[0m \u001b[0mi\u001b[0m \u001b[0;34m!=\u001b[0m \u001b[0mfila_pivote\u001b[0m\u001b[0;34m:\u001b[0m\u001b[0;34m\u001b[0m\u001b[0;34m\u001b[0m\u001b[0m\n\u001b[1;32m     86\u001b[0m           \u001b[0mtabla_simplex\u001b[0m\u001b[0;34m[\u001b[0m\u001b[0mi\u001b[0m\u001b[0;34m,\u001b[0m\u001b[0;34m:\u001b[0m\u001b[0;34m]\u001b[0m \u001b[0;34m=\u001b[0m \u001b[0mtabla_simplex\u001b[0m\u001b[0;34m[\u001b[0m\u001b[0mi\u001b[0m\u001b[0;34m,\u001b[0m\u001b[0;34m:\u001b[0m\u001b[0;34m]\u001b[0m \u001b[0;34m-\u001b[0m \u001b[0mtabla_simplex\u001b[0m\u001b[0;34m[\u001b[0m\u001b[0mi\u001b[0m\u001b[0;34m,\u001b[0m\u001b[0mcolum_pivote\u001b[0m\u001b[0;34m]\u001b[0m\u001b[0;34m*\u001b[0m\u001b[0mtabla_simplex\u001b[0m\u001b[0;34m[\u001b[0m\u001b[0mfila_pivote\u001b[0m\u001b[0;34m,\u001b[0m\u001b[0;34m:\u001b[0m\u001b[0;34m]\u001b[0m\u001b[0;34m\u001b[0m\u001b[0;34m\u001b[0m\u001b[0m\n\u001b[0;32m---> 87\u001b[0;31m       \u001b[0;32mreturn\u001b[0m \u001b[0mItera_simplex\u001b[0m\u001b[0;34m(\u001b[0m\u001b[0mtabla_simplex\u001b[0m\u001b[0;34m,\u001b[0m\u001b[0mn\u001b[0m\u001b[0;34m)\u001b[0m \u001b[0;31m# recursión del método\u001b[0m\u001b[0;34m\u001b[0m\u001b[0;34m\u001b[0m\u001b[0m\n\u001b[0m",
            "\u001b[0;31mNameError\u001b[0m: name 'Itera_simplex' is not defined"
          ]
        }
      ]
    }
  ]
}