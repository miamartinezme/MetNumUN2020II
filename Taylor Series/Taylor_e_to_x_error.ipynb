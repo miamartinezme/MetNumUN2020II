{
  "nbformat": 4,
  "nbformat_minor": 0,
  "metadata": {
    "colab": {
      "name": "Taylor_e_to_x_error.ipynb",
      "provenance": [],
      "collapsed_sections": []
    },
    "kernelspec": {
      "name": "python3",
      "display_name": "Python 3"
    }
  },
  "cells": [
    {
      "cell_type": "code",
      "metadata": {
        "id": "vLwDl129-jhR",
        "colab": {
          "base_uri": "https://localhost:8080/"
        },
        "outputId": "7ef1bf66-8b88-468e-d760-0a784f8e86bf"
      },
      "source": [
        "import math\n",
        "\n",
        "x = 2\n",
        "e_to_2 = x**0/math.factorial(0) + x**1/math.factorial(1) + x**2/math.factorial(2) + x**3/math.factorial(3) + x**4/math.factorial(4)\n",
        "print(e_to_2)"
      ],
      "execution_count": 3,
      "outputs": [
        {
          "output_type": "stream",
          "text": [
            "7.0\n"
          ],
          "name": "stdout"
        }
      ]
    },
    {
      "cell_type": "code",
      "metadata": {
        "colab": {
          "base_uri": "https://localhost:8080/"
        },
        "id": "eWEZ5i830LZ8",
        "outputId": "2a32938c-7755-4d9c-e159-9200ab5f315b"
      },
      "source": [
        "x=2\n",
        "sin_to_x = x**1/math.factorial(1) - x**3/math.factorial(3) + x**5/math.factorial(5) - x**7/math.factorial(7) + x**9/math.factorial(9)\n",
        "Taylor_sin_to_x = print(sin_to_x)"
      ],
      "execution_count": 4,
      "outputs": [
        {
          "output_type": "stream",
          "text": [
            "0.909347442680776\n"
          ],
          "name": "stdout"
        }
      ]
    },
    {
      "cell_type": "code",
      "metadata": {
        "colab": {
          "base_uri": "https://localhost:8080/"
        },
        "id": "RkL9mEWE0UBG",
        "outputId": "16c1ff1e-7110-4387-ab1a-b733c7a24b34"
      },
      "source": [
        "x=0.5\n",
        "ln_1_x = x - x**2 /2 + x**3/3 - x**4/4 + x**5/5 -x**6/6 \n",
        "Taylor_ln_1_x = print (ln_1_x)"
      ],
      "execution_count": 5,
      "outputs": [
        {
          "output_type": "stream",
          "text": [
            "0.4046875\n"
          ],
          "name": "stdout"
        }
      ]
    },
    {
      "cell_type": "code",
      "metadata": {
        "id": "32L27d0r_EwV",
        "colab": {
          "base_uri": "https://localhost:8080/"
        },
        "outputId": "5099cfed-971c-4dca-fb6f-ddc8ba62282a"
      },
      "source": [
        "print(math.exp(2))"
      ],
      "execution_count": 6,
      "outputs": [
        {
          "output_type": "stream",
          "text": [
            "7.38905609893065\n"
          ],
          "name": "stdout"
        }
      ]
    },
    {
      "cell_type": "code",
      "metadata": {
        "colab": {
          "base_uri": "https://localhost:8080/"
        },
        "id": "nxf2u-OF0M2M",
        "outputId": "5c29769a-6d88-428c-efae-674c7232ddcc"
      },
      "source": [
        "print(math.sin(2))"
      ],
      "execution_count": 7,
      "outputs": [
        {
          "output_type": "stream",
          "text": [
            "0.9092974268256817\n"
          ],
          "name": "stdout"
        }
      ]
    },
    {
      "cell_type": "code",
      "metadata": {
        "colab": {
          "base_uri": "https://localhost:8080/"
        },
        "id": "LY5wc9HX0exk",
        "outputId": "641bc46d-cc4f-4def-cd9e-d1e797b934d4"
      },
      "source": [
        "print(math.log(1+0.5))"
      ],
      "execution_count": 8,
      "outputs": [
        {
          "output_type": "stream",
          "text": [
            "0.4054651081081644\n"
          ],
          "name": "stdout"
        }
      ]
    },
    {
      "cell_type": "code",
      "metadata": {
        "id": "xTjBEI-s_KO8",
        "colab": {
          "base_uri": "https://localhost:8080/"
        },
        "outputId": "0baa4371-db25-415d-f3f8-ef41550a1913"
      },
      "source": [
        "import math\n",
        "\n",
        "x = 2\n",
        "e_to_2 = 0\n",
        "for i in range(10):\n",
        "    e_to_2 += x**i/math.factorial(i) \n",
        "print(e_to_2)"
      ],
      "execution_count": 9,
      "outputs": [
        {
          "output_type": "stream",
          "text": [
            "7.3887125220458545\n"
          ],
          "name": "stdout"
        }
      ]
    },
    {
      "cell_type": "code",
      "metadata": {
        "colab": {
          "base_uri": "https://localhost:8080/"
        },
        "id": "E_RXpYI50SxB",
        "outputId": "1f2711bf-c73e-4db0-bd0c-9fbb15189b61"
      },
      "source": [
        "import math\n",
        "\n",
        "x = 2\n",
        "sin_to_2 = 0\n",
        "for i in range(10):\n",
        "    sin_to_2 +=(-1)**i * x**(2*i+1)/math.factorial(2*i+1) \n",
        "print(sin_to_2)"
      ],
      "execution_count": 10,
      "outputs": [
        {
          "output_type": "stream",
          "text": [
            "0.909297426825641\n"
          ],
          "name": "stdout"
        }
      ]
    },
    {
      "cell_type": "code",
      "metadata": {
        "colab": {
          "base_uri": "https://localhost:8080/"
        },
        "id": "uifWS1B30jhE",
        "outputId": "41dee045-3e55-4cf0-cdc5-4525d0d165da"
      },
      "source": [
        "x = 0.5\n",
        "ln_1_x = 0\n",
        "for i in range(10):\n",
        "    ln_1_x +=(-1)**(i)*x**(i+1)/(i+1) \n",
        "print(ln_1_x)"
      ],
      "execution_count": 11,
      "outputs": [
        {
          "output_type": "stream",
          "text": [
            "0.4054346478174603\n"
          ],
          "name": "stdout"
        }
      ]
    },
    {
      "cell_type": "markdown",
      "metadata": {
        "id": "CeFgUwtNfwKO"
      },
      "source": [
        "For the Taylor series for $f(x) = e^x$ about $c=0$ (Maclaurin) \n",
        "\n",
        "$$ E_n = \\frac{f^{(n+1)}(\\xi)}{(n+1)!}(x-c)^{(n+1)} = \\frac{e^\\xi}{(n+1)!}x^{(n+1)} \\le  \\frac{e^x}{(n+1)!}x^{(n+1)},\\text{ given that } $$\n",
        "\n",
        "\n",
        "If we want $E_n \\le \\epsilon$ then we need $n$ such that because $e^x \\ge e^\\xi$, for  $c=0 \\le \\xi \\le x$ \n",
        "\n",
        "\n",
        "$$ \\frac{e^x}{(n+1)!}x^{(n+1)} < \\epsilon$$ \n",
        "\n",
        "because $e^x \\ge e^\\xi$, for  $0 \\le \\xi \\le x$.\n"
      ]
    },
    {
      "cell_type": "code",
      "metadata": {
        "id": "ZIEObg2JbjfY",
        "colab": {
          "base_uri": "https://localhost:8080/"
        },
        "outputId": "f846a907-b074-4d8d-a65b-ef76b2665aa3"
      },
      "source": [
        "import math\n",
        "\n",
        "x = 10\n",
        "epsilon = 10**(-4)\n",
        "\n",
        "for k in range(1000):\n",
        "  if (  ( (math.exp(x) * x**(k+1)) / math.factorial(k+1) ) < epsilon):\n",
        "    break\n",
        "print(k)\n",
        "\n",
        "e_to_x = 0\n",
        "for i in range(k):\n",
        "    print(i,' ',e_to_x, ' delta ', x**i/math.factorial(i))\n",
        "    e_to_x += x**i/math.factorial(i) \n",
        "    \n",
        "print('math.exp(10) = ',math.exp(10))"
      ],
      "execution_count": 12,
      "outputs": [
        {
          "output_type": "stream",
          "text": [
            "40\n",
            "0   0  delta  1.0\n",
            "1   1.0  delta  10.0\n",
            "2   11.0  delta  50.0\n",
            "3   61.0  delta  166.66666666666666\n",
            "4   227.66666666666666  delta  416.6666666666667\n",
            "5   644.3333333333334  delta  833.3333333333334\n",
            "6   1477.6666666666667  delta  1388.888888888889\n",
            "7   2866.5555555555557  delta  1984.126984126984\n",
            "8   4850.68253968254  delta  2480.15873015873\n",
            "9   7330.84126984127  delta  2755.731922398589\n",
            "10   10086.573192239859  delta  2755.731922398589\n",
            "11   12842.305114638448  delta  2505.210838544172\n",
            "12   15347.51595318262  delta  2087.67569878681\n",
            "13   17435.191651969428  delta  1605.9043836821616\n",
            "14   19041.09603565159  delta  1147.0745597729724\n",
            "15   20188.170595424563  delta  764.7163731819817\n",
            "16   20952.886968606545  delta  477.9477332387385\n",
            "17   21430.834701845284  delta  281.14572543455205\n",
            "18   21711.980427279836  delta  156.19206968586226\n",
            "19   21868.172496965697  delta  82.2063524662433\n",
            "20   21950.37884943194  delta  41.10317623312165\n",
            "21   21991.482025665064  delta  19.572941063391262\n",
            "22   22011.054966728454  delta  8.896791392450574\n",
            "23   22019.951758120904  delta  3.868170170630684\n",
            "24   22023.819928291534  delta  1.6117375710961184\n",
            "25   22025.43166586263  delta  0.6446950284384474\n",
            "26   22026.076360891067  delta  0.24795962632247975\n",
            "27   22026.32432051739  delta  0.09183689863795547\n",
            "28   22026.416157416028  delta  0.03279889237069838\n",
            "29   22026.4489563084  delta  0.011309962886447717\n",
            "30   22026.460266271286  delta  0.003769987628815906\n",
            "31   22026.464036258916  delta  0.001216125041553518\n",
            "32   22026.465252383958  delta  0.00038003907548547436\n",
            "33   22026.465632423035  delta  0.0001151633562077195\n",
            "34   22026.46574758639  delta  3.3871575355211616e-05\n",
            "35   22026.465781457966  delta  9.677592958631891e-06\n",
            "36   22026.465791135557  delta  2.6882202662866364e-06\n",
            "37   22026.465793823776  delta  7.265460179153071e-07\n",
            "38   22026.46579455032  delta  1.9119632050402818e-07\n",
            "39   22026.465794741518  delta  4.9024697565135436e-08\n",
            "math.exp(10) =  22026.465794806718\n"
          ],
          "name": "stdout"
        }
      ]
    },
    {
      "cell_type": "code",
      "metadata": {
        "colab": {
          "base_uri": "https://localhost:8080/"
        },
        "id": "Svlx5efL03qs",
        "outputId": "60021174-520d-4619-84f3-3ebe4d7272d8"
      },
      "source": [
        "import math\n",
        "\n",
        "x = 10\n",
        "epsilon = 10**(-4)\n",
        "\n",
        "for k in range(1000):\n",
        "  if (  ( (((-1)**k) * x**(k+1)) / math.factorial(k+1) ) < epsilon):\n",
        "    break\n",
        "print(k)\n",
        "\n",
        "sin_to_x = 0\n",
        "for i in range(10):\n",
        "    print(i,' ',sin_to_x, ' delta ', (-1)**i *x**(2*i+1)/math.factorial(2*i+1))\n",
        "    sin_to_x += (-1)**i *x**(2*i+1)/math.factorial(2*i+1)\n",
        "    \n",
        "print('math.sin(10) = ',math.sin(10))"
      ],
      "execution_count": 19,
      "outputs": [
        {
          "output_type": "stream",
          "text": [
            "1\n",
            "0   0  delta  10.0\n",
            "1   10.0  delta  -166.66666666666666\n",
            "2   -156.66666666666666  delta  833.3333333333334\n",
            "3   676.6666666666667  delta  -1984.126984126984\n",
            "4   -1307.4603174603174  delta  2755.731922398589\n",
            "5   1448.2716049382718  delta  -2505.210838544172\n",
            "6   -1056.9392336059002  delta  1605.9043836821616\n",
            "7   548.9651500762614  delta  -764.7163731819817\n",
            "8   -215.75122310572033  delta  281.14572543455205\n",
            "9   65.39450232883172  delta  -82.2063524662433\n",
            "math.sin(10) =  -0.5440211108893698\n"
          ],
          "name": "stdout"
        }
      ]
    },
    {
      "cell_type": "markdown",
      "metadata": {
        "id": "Mi6Xm1WRz4jv"
      },
      "source": [
        "$$ \\frac{e^x}{(n+1)!}x^{(n+1)} < \\frac{3^x}{(n+1)!}x^{(n+1)} < \\epsilon$$ \n",
        "\n"
      ]
    },
    {
      "cell_type": "code",
      "metadata": {
        "id": "hRvsaSzRz2dq",
        "colab": {
          "base_uri": "https://localhost:8080/"
        },
        "outputId": "1ca45985-01f3-4e3d-ad1e-2ffdc1615243"
      },
      "source": [
        "import math\n",
        "\n",
        "x = 10\n",
        "epsilon = 10**(-16)\n",
        "\n",
        "for k in range(1000):\n",
        "  if (  ( (3**x * x**(k+1)) / math.factorial(k+1) ) < epsilon):\n",
        "    break\n",
        "print(k)\n",
        "\n",
        "e_to_x = 0\n",
        "for i in range(k+1):\n",
        "    print(i,' ',e_to_x, ' delta ', x**i/math.factorial(i))\n",
        "    e_to_x += x**i/math.factorial(i) \n",
        "    \n",
        "print('math.exp(10) = ',math.exp(10))"
      ],
      "execution_count": 14,
      "outputs": [
        {
          "output_type": "stream",
          "text": [
            "58\n",
            "0   0  delta  1.0\n",
            "1   1.0  delta  10.0\n",
            "2   11.0  delta  50.0\n",
            "3   61.0  delta  166.66666666666666\n",
            "4   227.66666666666666  delta  416.6666666666667\n",
            "5   644.3333333333334  delta  833.3333333333334\n",
            "6   1477.6666666666667  delta  1388.888888888889\n",
            "7   2866.5555555555557  delta  1984.126984126984\n",
            "8   4850.68253968254  delta  2480.15873015873\n",
            "9   7330.84126984127  delta  2755.731922398589\n",
            "10   10086.573192239859  delta  2755.731922398589\n",
            "11   12842.305114638448  delta  2505.210838544172\n",
            "12   15347.51595318262  delta  2087.67569878681\n",
            "13   17435.191651969428  delta  1605.9043836821616\n",
            "14   19041.09603565159  delta  1147.0745597729724\n",
            "15   20188.170595424563  delta  764.7163731819817\n",
            "16   20952.886968606545  delta  477.9477332387385\n",
            "17   21430.834701845284  delta  281.14572543455205\n",
            "18   21711.980427279836  delta  156.19206968586226\n",
            "19   21868.172496965697  delta  82.2063524662433\n",
            "20   21950.37884943194  delta  41.10317623312165\n",
            "21   21991.482025665064  delta  19.572941063391262\n",
            "22   22011.054966728454  delta  8.896791392450574\n",
            "23   22019.951758120904  delta  3.868170170630684\n",
            "24   22023.819928291534  delta  1.6117375710961184\n",
            "25   22025.43166586263  delta  0.6446950284384474\n",
            "26   22026.076360891067  delta  0.24795962632247975\n",
            "27   22026.32432051739  delta  0.09183689863795547\n",
            "28   22026.416157416028  delta  0.03279889237069838\n",
            "29   22026.4489563084  delta  0.011309962886447717\n",
            "30   22026.460266271286  delta  0.003769987628815906\n",
            "31   22026.464036258916  delta  0.001216125041553518\n",
            "32   22026.465252383958  delta  0.00038003907548547436\n",
            "33   22026.465632423035  delta  0.0001151633562077195\n",
            "34   22026.46574758639  delta  3.3871575355211616e-05\n",
            "35   22026.465781457966  delta  9.677592958631891e-06\n",
            "36   22026.465791135557  delta  2.6882202662866364e-06\n",
            "37   22026.465793823776  delta  7.265460179153071e-07\n",
            "38   22026.46579455032  delta  1.9119632050402818e-07\n",
            "39   22026.465794741518  delta  4.9024697565135436e-08\n",
            "40   22026.465794790543  delta  1.2256174391283859e-08\n",
            "41   22026.4657948028  delta  2.9893108271424046e-09\n",
            "42   22026.46579480579  delta  7.11740673129144e-10\n",
            "43   22026.465794806503  delta  1.6552108677421953e-10\n",
            "44   22026.465794806667  delta  3.761842881232262e-11\n",
            "45   22026.465794806703  delta  8.359650847182803e-12\n",
            "46   22026.46579480671  delta  1.817315401561479e-12\n",
            "47   22026.46579480671  delta  3.866628513960594e-13\n",
            "48   22026.46579480671  delta  8.055476070751238e-14\n",
            "49   22026.46579480671  delta  1.643974708316579e-14\n",
            "50   22026.46579480671  delta  3.287949416633158e-15\n",
            "51   22026.46579480671  delta  6.446959640457173e-16\n",
            "52   22026.46579480671  delta  1.2397999308571487e-16\n",
            "53   22026.46579480671  delta  2.3392451525606577e-17\n",
            "54   22026.46579480671  delta  4.331935467704922e-18\n",
            "55   22026.46579480671  delta  7.876246304918039e-19\n",
            "56   22026.46579480671  delta  1.4064725544496499e-19\n",
            "57   22026.46579480671  delta  2.4674957095607893e-20\n",
            "58   22026.46579480671  delta  4.2543029475186024e-21\n",
            "math.exp(10) =  22026.465794806718\n"
          ],
          "name": "stdout"
        }
      ]
    },
    {
      "cell_type": "code",
      "metadata": {
        "id": "ZmlwI27Cz0cn",
        "colab": {
          "base_uri": "https://localhost:8080/"
        },
        "outputId": "39756aa3-01c9-4d06-f4be-9636b8740034"
      },
      "source": [
        "import math\n",
        "\n",
        "x = 10\n",
        "epsilon = 10**(-4)\n",
        "delta = 1\n",
        "e_to_x = 0\n",
        "i = 0\n",
        "while  epsilon <= delta:\n",
        "  delta = x**i/math.factorial(i) \n",
        "  e_to_x += delta\n",
        "  i = i+1\n",
        "print(i-1) \n",
        "print('e_to_x = ',e_to_x)    \n",
        "print('math.exp(10) = ',math.exp(10))"
      ],
      "execution_count": 15,
      "outputs": [
        {
          "output_type": "stream",
          "text": [
            "34\n",
            "e_to_x =  22026.465781457966\n",
            "math.exp(10) =  22026.465794806718\n"
          ],
          "name": "stdout"
        }
      ]
    }
  ]
}