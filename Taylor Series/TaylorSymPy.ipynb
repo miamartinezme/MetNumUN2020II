{
  "nbformat": 4,
  "nbformat_minor": 0,
  "metadata": {
    "colab": {
      "name": "TaylorSymPy.ipynb",
      "provenance": [],
      "collapsed_sections": []
    },
    "kernelspec": {
      "name": "python3",
      "display_name": "Python 3"
    }
  },
  "cells": [
    {
      "cell_type": "markdown",
      "metadata": {
        "id": "ta9hr5GysWa-"
      },
      "source": [
        "Reproduciremos cada uno de los codigos para las Funciones \n",
        "\n",
        "$e^{x}$ \\\\\n",
        "$sin(x)$ \\\\\n",
        "$cos(x)$ \\\\\n",
        "$\\frac{1}{1-x}$ \\\\\n",
        "$Ln(1+x)$ \\\\\n",
        "$ln(x)$ \\\\\n",
        "\n",
        "\n"
      ]
    },
    {
      "cell_type": "code",
      "metadata": {
        "id": "vLwDl129-jhR",
        "colab": {
          "base_uri": "https://localhost:8080/"
        },
        "outputId": "cd394511-8b1d-4eb8-a063-bc425d759f9f"
      },
      "source": [
        "import math\n",
        "\n",
        "x = 2\n",
        "e_to_2 = x**0/math.factorial(0) + x**1/math.factorial(1) + x**2/math.factorial(2) + x**3/math.factorial(3) + x**4/math.factorial(4)\n",
        "Taylor_e_to_x = print(e_to_2)\n",
        "\n",
        "sin_to_x = x**1/math.factorial(1) - x**3/math.factorial(3) + x**5/math.factorial(5) - x**7/math.factorial(7) + x**9/math.factorial(9)\n",
        "Taylor_sin_to_x = print(sin_to_x)\n",
        "\n",
        "cos_to_2 = x**0/math.factorial(0) - x**2/math.factorial(2) + x**4/math.factorial(4) - x**6/math.factorial(6) + x**8/math.factorial(8)\n",
        "Taylor_cos_to_x = print(cos_to_2)\n",
        "\n"
      ],
      "execution_count": 33,
      "outputs": [
        {
          "output_type": "stream",
          "text": [
            "7.0\n",
            "0.909347442680776\n",
            "-0.41587301587301595\n"
          ],
          "name": "stdout"
        }
      ]
    },
    {
      "cell_type": "markdown",
      "metadata": {
        "id": "exxDItRw0fQ2"
      },
      "source": [
        "Aqui en este punto cambien los valores de x, ya que para que converja las series su valor de x<1."
      ]
    },
    {
      "cell_type": "code",
      "metadata": {
        "colab": {
          "base_uri": "https://localhost:8080/"
        },
        "id": "iTM5J_pjzXxs",
        "outputId": "6c013065-c929-470d-c223-6fa1aef531c2"
      },
      "source": [
        "x=0.5\n",
        "frac = 1 + x + x**2 + x**3 + x**4 \n",
        "Taylor_frac1_x1 = print (frac)\n",
        "\n",
        "ln_1_x = x - x**2 /2 + x**3/3 - x**4/4 + x**5/5 -x**6/6 \n",
        "Taylor_ln_1_x = print (ln_1_x)\n",
        "\n",
        "ln_x = (x-1) - (x-1)**2/2 + (x-1)**3/3 - (x-1)**4/4\n",
        "Taylor_ln_x = print(ln_x)"
      ],
      "execution_count": 34,
      "outputs": [
        {
          "output_type": "stream",
          "text": [
            "1.9375\n",
            "0.4046875\n",
            "-0.6822916666666666\n"
          ],
          "name": "stdout"
        }
      ]
    },
    {
      "cell_type": "code",
      "metadata": {
        "id": "32L27d0r_EwV",
        "colab": {
          "base_uri": "https://localhost:8080/"
        },
        "outputId": "49bfc7fb-6d73-4cc4-80d5-f1c5e31e78f6"
      },
      "source": [
        "print(math.exp(2))\n",
        "print(math.sin(2))\n",
        "print(math.cos(2))\n",
        "print(1/(1-0.5))\n",
        "print(math.log(1+0.5))\n",
        "print(math.log(0.5))"
      ],
      "execution_count": 35,
      "outputs": [
        {
          "output_type": "stream",
          "text": [
            "7.38905609893065\n",
            "0.9092974268256817\n",
            "-0.4161468365471424\n",
            "2.0\n",
            "0.4054651081081644\n",
            "-0.6931471805599453\n"
          ],
          "name": "stdout"
        }
      ]
    },
    {
      "cell_type": "code",
      "metadata": {
        "id": "xTjBEI-s_KO8",
        "colab": {
          "base_uri": "https://localhost:8080/"
        },
        "outputId": "d09edf84-5887-4d6a-b977-9dff76d30b86"
      },
      "source": [
        "import math\n",
        "\n",
        "x = 2\n",
        "e_to_2 = 0\n",
        "for i in range(10):\n",
        "    e_to_2 += x**i/math.factorial(i) \n",
        "print(e_to_2)"
      ],
      "execution_count": 36,
      "outputs": [
        {
          "output_type": "stream",
          "text": [
            "7.3887125220458545\n"
          ],
          "name": "stdout"
        }
      ]
    },
    {
      "cell_type": "code",
      "metadata": {
        "colab": {
          "base_uri": "https://localhost:8080/"
        },
        "id": "WuCBwveL5tXA",
        "outputId": "b0047e22-17f2-416a-de74-fc074a1b0905"
      },
      "source": [
        "import math\n",
        "\n",
        "x = 2\n",
        "sin_to_2 = 0\n",
        "for i in range(10):\n",
        "    sin_to_2 +=(-1)**i * x**(2*i+1)/math.factorial(2*i+1) \n",
        "print(sin_to_2)"
      ],
      "execution_count": 52,
      "outputs": [
        {
          "output_type": "stream",
          "text": [
            "0.909297426825641\n"
          ],
          "name": "stdout"
        }
      ]
    },
    {
      "cell_type": "code",
      "metadata": {
        "colab": {
          "base_uri": "https://localhost:8080/"
        },
        "id": "ODRxL1dy6Vik",
        "outputId": "ab19dba9-b3c8-41c8-8e67-a15a1e5f516e"
      },
      "source": [
        "x = 2\n",
        "cos_to_2 = 0\n",
        "for i in range(10):\n",
        "    cos_to_2 +=(-1)**i * x**(2*i)/math.factorial(2*i) \n",
        "print(cos_to_2)"
      ],
      "execution_count": 38,
      "outputs": [
        {
          "output_type": "stream",
          "text": [
            "-0.41614683654756973\n"
          ],
          "name": "stdout"
        }
      ]
    },
    {
      "cell_type": "code",
      "metadata": {
        "colab": {
          "base_uri": "https://localhost:8080/"
        },
        "id": "R_XG2Jd66jlM",
        "outputId": "807311fd-d478-4a57-8243-4e39df3576dd"
      },
      "source": [
        "x = 0.5\n",
        "frac_5 = 0\n",
        "for i in range(10):\n",
        "    frac_5 +=x**i\n",
        "print(frac_5)"
      ],
      "execution_count": 39,
      "outputs": [
        {
          "output_type": "stream",
          "text": [
            "1.998046875\n"
          ],
          "name": "stdout"
        }
      ]
    },
    {
      "cell_type": "code",
      "metadata": {
        "colab": {
          "base_uri": "https://localhost:8080/"
        },
        "id": "yPHBAUru7fK0",
        "outputId": "ebbbe55b-0f24-4f1b-f28c-3634f668815f"
      },
      "source": [
        "x = 0.5\n",
        "ln_1_x = 0\n",
        "for i in range(10):\n",
        "    ln_1_x +=(-1)**(i)*x**(i+1)/(i+1) \n",
        "print(ln_1_x)"
      ],
      "execution_count": 40,
      "outputs": [
        {
          "output_type": "stream",
          "text": [
            "0.4054346478174603\n"
          ],
          "name": "stdout"
        }
      ]
    },
    {
      "cell_type": "code",
      "metadata": {
        "colab": {
          "base_uri": "https://localhost:8080/"
        },
        "id": "OvuwliH__d6D",
        "outputId": "b0dca895-597e-48ec-b88c-e8a1ab9dab33"
      },
      "source": [
        "x = 0.5\n",
        "ln_x = 0\n",
        "for i in range(10):\n",
        "    ln_x +=(-1)**(i)*(x-1)**(i+1)/(i+1) \n",
        "print(ln_x)"
      ],
      "execution_count": 41,
      "outputs": [
        {
          "output_type": "stream",
          "text": [
            "-0.6930648561507935\n"
          ],
          "name": "stdout"
        }
      ]
    },
    {
      "cell_type": "markdown",
      "metadata": {
        "id": "CeFgUwtNfwKO"
      },
      "source": [
        "For the Taylor series for $f(x) = e^x$ about $c=0$ (Maclaurin) \n",
        "\n",
        "$$ E_n = \\frac{f^{(n+1)}(\\xi)}{(n+1)!}(x-c)^{(n+1)} = \\frac{e^\\xi}{(n+1)!}x^{(n+1)} \\le  \\frac{e^x}{(n+1)!}x^{(n+1)},\\text{ given that } $$\n",
        "\n",
        "\n",
        "If we want $E_n \\le \\epsilon$ then we need $n$ such that because $e^x \\ge e^\\xi$, for  $c=0 \\le \\xi \\le x$ \n",
        "\n",
        "\n",
        "$$ \\frac{e^x}{(n+1)!}x^{(n+1)} < \\epsilon$$ \n",
        "\n",
        "because $e^x \\ge e^\\xi$, for  $0 \\le \\xi \\le x$.\n"
      ]
    },
    {
      "cell_type": "code",
      "metadata": {
        "id": "ZIEObg2JbjfY",
        "colab": {
          "base_uri": "https://localhost:8080/"
        },
        "outputId": "25302a08-1c6d-4f1e-d3a8-61b486a62ceb"
      },
      "source": [
        "import math\n",
        "\n",
        "x = 10\n",
        "epsilon = 10**(-4)\n",
        "\n",
        "for k in range(1000):\n",
        "  if (  ( (math.exp(x) * x**(k+1)) / math.factorial(k+1) ) < epsilon):\n",
        "    break\n",
        "print(k)\n",
        "\n",
        "e_to_x = 0\n",
        "for i in range(k):\n",
        "    print(i,' ',e_to_x, ' delta ', x**i/math.factorial(i))\n",
        "    e_to_x += x**i/math.factorial(i)\n",
        "    \n",
        "print('math.exp(10) = ',math.exp(10))"
      ],
      "execution_count": 42,
      "outputs": [
        {
          "output_type": "stream",
          "text": [
            "40\n",
            "0   0  delta  1.0\n",
            "1   1.0  delta  10.0\n",
            "2   11.0  delta  50.0\n",
            "3   61.0  delta  166.66666666666666\n",
            "4   227.66666666666666  delta  416.6666666666667\n",
            "5   644.3333333333334  delta  833.3333333333334\n",
            "6   1477.6666666666667  delta  1388.888888888889\n",
            "7   2866.5555555555557  delta  1984.126984126984\n",
            "8   4850.68253968254  delta  2480.15873015873\n",
            "9   7330.84126984127  delta  2755.731922398589\n",
            "10   10086.573192239859  delta  2755.731922398589\n",
            "11   12842.305114638448  delta  2505.210838544172\n",
            "12   15347.51595318262  delta  2087.67569878681\n",
            "13   17435.191651969428  delta  1605.9043836821616\n",
            "14   19041.09603565159  delta  1147.0745597729724\n",
            "15   20188.170595424563  delta  764.7163731819817\n",
            "16   20952.886968606545  delta  477.9477332387385\n",
            "17   21430.834701845284  delta  281.14572543455205\n",
            "18   21711.980427279836  delta  156.19206968586226\n",
            "19   21868.172496965697  delta  82.2063524662433\n",
            "20   21950.37884943194  delta  41.10317623312165\n",
            "21   21991.482025665064  delta  19.572941063391262\n",
            "22   22011.054966728454  delta  8.896791392450574\n",
            "23   22019.951758120904  delta  3.868170170630684\n",
            "24   22023.819928291534  delta  1.6117375710961184\n",
            "25   22025.43166586263  delta  0.6446950284384474\n",
            "26   22026.076360891067  delta  0.24795962632247975\n",
            "27   22026.32432051739  delta  0.09183689863795547\n",
            "28   22026.416157416028  delta  0.03279889237069838\n",
            "29   22026.4489563084  delta  0.011309962886447717\n",
            "30   22026.460266271286  delta  0.003769987628815906\n",
            "31   22026.464036258916  delta  0.001216125041553518\n",
            "32   22026.465252383958  delta  0.00038003907548547436\n",
            "33   22026.465632423035  delta  0.0001151633562077195\n",
            "34   22026.46574758639  delta  3.3871575355211616e-05\n",
            "35   22026.465781457966  delta  9.677592958631891e-06\n",
            "36   22026.465791135557  delta  2.6882202662866364e-06\n",
            "37   22026.465793823776  delta  7.265460179153071e-07\n",
            "38   22026.46579455032  delta  1.9119632050402818e-07\n",
            "39   22026.465794741518  delta  4.9024697565135436e-08\n",
            "math.exp(10) =  22026.465794806718\n"
          ],
          "name": "stdout"
        }
      ]
    },
    {
      "cell_type": "markdown",
      "metadata": {
        "id": "Mi6Xm1WRz4jv"
      },
      "source": [
        "$$ \\frac{e^x}{(n+1)!}x^{(n+1)} < \\frac{3^x}{(n+1)!}x^{(n+1)} < \\epsilon$$ \n",
        "\n"
      ]
    },
    {
      "cell_type": "code",
      "metadata": {
        "id": "hRvsaSzRz2dq",
        "colab": {
          "base_uri": "https://localhost:8080/"
        },
        "outputId": "1c9e97f4-8445-4f54-a469-7e5115155d89"
      },
      "source": [
        "import math\n",
        "\n",
        "x = 10\n",
        "epsilon = 10**(-16)\n",
        "\n",
        "for k in range(1000):\n",
        "  if (  ( (3**x * x**(k+1)) / math.factorial(k+1) ) < epsilon):\n",
        "    break\n",
        "print(k)\n",
        "\n",
        "e_to_x = 0\n",
        "for i in range(k+1):\n",
        "    print(i,' ',e_to_x, ' delta ', x**i/math.factorial(i))\n",
        "    e_to_x += x**i/math.factorial(i) \n",
        "    \n",
        "print('math.exp(10) = ',math.exp(10))"
      ],
      "execution_count": 43,
      "outputs": [
        {
          "output_type": "stream",
          "text": [
            "58\n",
            "0   0  delta  1.0\n",
            "1   1.0  delta  10.0\n",
            "2   11.0  delta  50.0\n",
            "3   61.0  delta  166.66666666666666\n",
            "4   227.66666666666666  delta  416.6666666666667\n",
            "5   644.3333333333334  delta  833.3333333333334\n",
            "6   1477.6666666666667  delta  1388.888888888889\n",
            "7   2866.5555555555557  delta  1984.126984126984\n",
            "8   4850.68253968254  delta  2480.15873015873\n",
            "9   7330.84126984127  delta  2755.731922398589\n",
            "10   10086.573192239859  delta  2755.731922398589\n",
            "11   12842.305114638448  delta  2505.210838544172\n",
            "12   15347.51595318262  delta  2087.67569878681\n",
            "13   17435.191651969428  delta  1605.9043836821616\n",
            "14   19041.09603565159  delta  1147.0745597729724\n",
            "15   20188.170595424563  delta  764.7163731819817\n",
            "16   20952.886968606545  delta  477.9477332387385\n",
            "17   21430.834701845284  delta  281.14572543455205\n",
            "18   21711.980427279836  delta  156.19206968586226\n",
            "19   21868.172496965697  delta  82.2063524662433\n",
            "20   21950.37884943194  delta  41.10317623312165\n",
            "21   21991.482025665064  delta  19.572941063391262\n",
            "22   22011.054966728454  delta  8.896791392450574\n",
            "23   22019.951758120904  delta  3.868170170630684\n",
            "24   22023.819928291534  delta  1.6117375710961184\n",
            "25   22025.43166586263  delta  0.6446950284384474\n",
            "26   22026.076360891067  delta  0.24795962632247975\n",
            "27   22026.32432051739  delta  0.09183689863795547\n",
            "28   22026.416157416028  delta  0.03279889237069838\n",
            "29   22026.4489563084  delta  0.011309962886447717\n",
            "30   22026.460266271286  delta  0.003769987628815906\n",
            "31   22026.464036258916  delta  0.001216125041553518\n",
            "32   22026.465252383958  delta  0.00038003907548547436\n",
            "33   22026.465632423035  delta  0.0001151633562077195\n",
            "34   22026.46574758639  delta  3.3871575355211616e-05\n",
            "35   22026.465781457966  delta  9.677592958631891e-06\n",
            "36   22026.465791135557  delta  2.6882202662866364e-06\n",
            "37   22026.465793823776  delta  7.265460179153071e-07\n",
            "38   22026.46579455032  delta  1.9119632050402818e-07\n",
            "39   22026.465794741518  delta  4.9024697565135436e-08\n",
            "40   22026.465794790543  delta  1.2256174391283859e-08\n",
            "41   22026.4657948028  delta  2.9893108271424046e-09\n",
            "42   22026.46579480579  delta  7.11740673129144e-10\n",
            "43   22026.465794806503  delta  1.6552108677421953e-10\n",
            "44   22026.465794806667  delta  3.761842881232262e-11\n",
            "45   22026.465794806703  delta  8.359650847182803e-12\n",
            "46   22026.46579480671  delta  1.817315401561479e-12\n",
            "47   22026.46579480671  delta  3.866628513960594e-13\n",
            "48   22026.46579480671  delta  8.055476070751238e-14\n",
            "49   22026.46579480671  delta  1.643974708316579e-14\n",
            "50   22026.46579480671  delta  3.287949416633158e-15\n",
            "51   22026.46579480671  delta  6.446959640457173e-16\n",
            "52   22026.46579480671  delta  1.2397999308571487e-16\n",
            "53   22026.46579480671  delta  2.3392451525606577e-17\n",
            "54   22026.46579480671  delta  4.331935467704922e-18\n",
            "55   22026.46579480671  delta  7.876246304918039e-19\n",
            "56   22026.46579480671  delta  1.4064725544496499e-19\n",
            "57   22026.46579480671  delta  2.4674957095607893e-20\n",
            "58   22026.46579480671  delta  4.2543029475186024e-21\n",
            "math.exp(10) =  22026.465794806718\n"
          ],
          "name": "stdout"
        }
      ]
    },
    {
      "cell_type": "code",
      "metadata": {
        "id": "ZmlwI27Cz0cn",
        "colab": {
          "base_uri": "https://localhost:8080/"
        },
        "outputId": "cd2e50be-5e63-4bd2-f82f-73247bfada97"
      },
      "source": [
        "import math\n",
        "\n",
        "x = 10\n",
        "epsilon = 10**(-4)\n",
        "delta = 1\n",
        "e_to_x = 0\n",
        "i = 0\n",
        "while  epsilon <= delta:\n",
        "  delta = x**i/math.factorial(i) \n",
        "  e_to_x += delta\n",
        "  i = i+1\n",
        "print(i-1) \n",
        "print('e_to_x = ',e_to_x)    \n",
        "print('math.exp(10) = ',math.exp(10))"
      ],
      "execution_count": 44,
      "outputs": [
        {
          "output_type": "stream",
          "text": [
            "34\n",
            "e_to_x =  22026.465781457966\n",
            "math.exp(10) =  22026.465794806718\n"
          ],
          "name": "stdout"
        }
      ]
    },
    {
      "cell_type": "code",
      "metadata": {
        "colab": {
          "base_uri": "https://localhost:8080/"
        },
        "id": "ME6qu6_wuPUV",
        "outputId": "603b2c3b-d6f9-4a2a-e167-176aee6ec201"
      },
      "source": [
        "import math\n",
        "\n",
        "x = 2\n",
        "epsilon = 10**(-4)\n",
        "delta = 1\n",
        "sin_to_x = 0\n",
        "i = 0\n",
        "while  epsilon <= delta:\n",
        "  delta =(-1)**i * x**(2*i+1)/math.factorial(2*i+1) \n",
        "  sin_to_x += delta\n",
        "  i = i+1\n",
        "print(i-1) \n",
        "print('sin_to_x = ',sin_to_x)    \n",
        "print('math.sin(10) = ',math.sin(10))"
      ],
      "execution_count": 8,
      "outputs": [
        {
          "output_type": "stream",
          "text": [
            "1\n",
            "sin_to_x =  0.6666666666666667\n",
            "math.sin(10) =  -0.5440211108893698\n"
          ],
          "name": "stdout"
        }
      ]
    }
  ]
}