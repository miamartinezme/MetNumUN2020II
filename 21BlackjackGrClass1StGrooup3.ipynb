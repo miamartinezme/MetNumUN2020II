{
  "nbformat": 4,
  "nbformat_minor": 0,
  "metadata": {
    "colab": {
      "name": "laboratorio 4.ipynb",
      "provenance": [],
      "collapsed_sections": []
    },
    "kernelspec": {
      "name": "python3",
      "display_name": "Python 3"
    }
  },
  "cells": [
    {
      "cell_type": "markdown",
      "metadata": {
        "id": "xp6tj7TZ6JzY"
      },
      "source": [
        "1. Calculate the probability of getting a 21 drawing cards sequentially from shuffled Spanish 48-deck with card values [1,2,3,4,5,6,7,10,11,12,1,2,3,4,5,6,7,8,9,10,11,12,1,2,3,4,5,6,7,8,9,10,11,12,1,2,3,4,5,6,7,8,9,10,11,12] and from a shuffled Poker 52-card with card values [1,2,3,4,5,6,7,8,9,10,11,12,13,1,2,3,4,5,6,7,8,9,10,11,12,13,1,2,3,4,5,6,7,8,9,10,11,12,13,1,2,3,4,5,6,7,8,9,10,11,12,13]. Plot the experimental distribution of the numbers of card requires to complete 21 in 10000 trials.\n",
        "A n-card deck is shuffled if t all possible n! decks have equal probability 1/n! or equivalently if when choosing any card of the shuffled deck all n cards have the same probability 1/n of appearing.\n",
        "Hint: Instead of shuffling the card deck an drawing sequentially it is equivalent to have a sorted list representing the cards and draw cards randomly located from that list with random.choice(list)."
      ]
    },
    {
      "cell_type": "code",
      "metadata": {
        "id": "MUDODitWMfp9",
        "outputId": "35265084-7036-4419-9702-23642292b358",
        "colab": {
          "base_uri": "https://localhost:8080/",
          "height": 282
        }
      },
      "source": [
        "import random \n",
        "import matplotlib.pyplot as plt\n",
        "\n",
        "n=10000\n",
        "count = 0   #contador de 21's\n",
        "avnc = 0    #numero total de cartas\n",
        "nc21=[]     #numero de cartas utilizadas para hacer 21\n",
        "\n",
        "for i in range(n):\n",
        "  spanishDeck = [1,2,3,4,5,6,7,10,11,12,1,2,3,4,5,6,7,8,9,10,11,12,1,2,3,4,5,6,7,8,9,10,11,12,1,2,3,4,5,6,7,8,9,10,11,12]\n",
        "  pokerDeck = [1,2,3,4,5,6,7,8,9,10,11,12,13,1,2,3,4,5,6,7,8,9,10,11,12,13,1,2,3,4,5,6,7,8,9,10,11,12,13,1,2,3,4,5,6,7,8,9,10,11,12,13]\n",
        "  my_cards = [] #cartas actuales en la mano\n",
        "  nc = 0        #numero de cartas en la mano\n",
        "  deck=spanishDeck #escogencia de la baraja a utilizar\n",
        "\n",
        "  while(sum(my_cards)<21):\n",
        "      card = random.choice(deck)\n",
        "      my_cards.append(card)\n",
        "      deck.remove(card)\n",
        "      nc=nc+1\n",
        "      \n",
        "  if (sum(my_cards)==21):\n",
        "      count=count+1\n",
        "      avnc = avnc+nc\n",
        "      nc21.append(nc)\n",
        "\n",
        "print(\"21 probability\", count/n,\"Average # cards\", avnc/count )\n",
        "plt.hist(nc21,density=True,bins=30)\n",
        "plt.show()"
      ],
      "execution_count": null,
      "outputs": [
        {
          "output_type": "stream",
          "text": [
            "21 probability 0.1596 Average # cards 3.4705513784461153\n"
          ],
          "name": "stdout"
        },
        {
          "output_type": "display_data",
          "data": {
            "image/png": "[encoded data removed]",
            "text/plain": [
              "<Figure size 432x288 with 1 Axes>"
            ]
          },
          "metadata": {
            "tags": [],
            "needs_background": "light"
          }
        }
      ]
    },
    {
      "cell_type": "markdown",
      "metadata": {
        "id": "5xDLIUe8kVVw"
      },
      "source": [
        "2. Calculate the probability of getting a 21 drawing cards sequentially from shuffled Spanish 48-deck with card values are [1,2,3,4,5,6,7,8,9,,10,10,10,1,2,3,4,5,6,7,8,9,,10,10,10,1,2,3,4,5,6,7,8,9,10,10,10,1,2,3,4,5,6,7,8,9,,10,10,10] and [1,2,3,4,5,6,7,8,9,10,10,10,10,1,2,3,4,5,6,7,8,9,10,10,10,10,1,2,3,4,5,6,7,8,9,10,10,10,10,1,2,3,4,5,6,7,8,9,10,10,10,10] for the Spanish and Poker card decks. Plot the experimental distribution of the numbers of card requires to complete 21 in 10000 simulations."
      ]
    },
    {
      "cell_type": "code",
      "metadata": {
        "id": "aiM6N6QiPWGV",
        "outputId": "4280e077-8ebd-479b-9bbd-f114aa3d1c65",
        "colab": {
          "base_uri": "https://localhost:8080/",
          "height": 282
        }
      },
      "source": [
        "\n",
        "n=10000\n",
        "count = 0   #contador de 21's\n",
        "avnc = 0    #numero total de cartas\n",
        "nc21=[]     #numero de cartas utilizadas para hacer 21\n",
        "\n",
        "for i in range(n):\n",
        "  \n",
        "  auxDeckSpanish = [1,2,3,4,5,6,7,8,9,10,10,10,1,2,3,4,5,6,7,8,9,10,10,10,1,2,3,4,5,6,7,8,9,10,10,10,1,2,3,4,5,6,7,8,9,10,10,10]\n",
        "  auxDeckPoker = [1,2,3,4,5,6,7,8,9,10,10,10,10,1,2,3,4,5,6,7,8,9,10,10,10,10,1,2,3,4,5,6,7,8,9,10,10,10,10,1,2,3,4,5,6,7,8,9,10,10,10,10]\n",
        "  my_cards = [] #cartas actuales en la mano\n",
        "  nc = 0        #numero de cartas en la mano\n",
        "  deck=auxDeckSpanish #escogencia de la baraja a utilizar\n",
        "\n",
        "  while(sum(my_cards)<21):\n",
        "      card = random.choice(deck)\n",
        "      my_cards.append(card)\n",
        "      deck.remove(card)\n",
        "      nc=nc+1\n",
        "\n",
        "  if (sum(my_cards)==21):\n",
        "      count=count+1\n",
        "      avnc = avnc+nc\n",
        "      nc21.append(nc)\n",
        "\n",
        "print(\"21 probability\", count/n,\"Average # cards\", avnc/count )\n",
        "plt.hist(nc21,density=True,bins=30)\n",
        "plt.show()"
      ],
      "execution_count": null,
      "outputs": [
        {
          "output_type": "stream",
          "text": [
            "21 probability 0.1456 Average # cards 3.666208791208791\n"
          ],
          "name": "stdout"
        },
        {
          "output_type": "display_data",
          "data": {
            "image/png": "[encoded data removed]",
            "text/plain": [
              "<Figure size 432x288 with 1 Axes>"
            ]
          },
          "metadata": {
            "tags": [],
            "needs_background": "light"
          }
        }
      ]
    },
    {
      "cell_type": "markdown",
      "metadata": {
        "id": "DYJp39y3ges_"
      },
      "source": [
        "3. Calculate the probability of getting a 21, with the Spanish and Poker card deck, assuming that you are in the middle of game and the remaining deck has n/2 card and you have the cards [7,7,5]. You pick arbitrary what card are in the remaining deck with the only restriction that there are be maximum two 7s and three 5s). Plot the experimental distribution of the numbers of card requires to complete 21 in 10000 simulations."
      ]
    },
    {
      "cell_type": "code",
      "metadata": {
        "id": "et-AJlPoP9rf",
        "outputId": "9445255c-e879-401e-b9e1-e38eefb73410",
        "colab": {
          "base_uri": "https://localhost:8080/",
          "height": 282
        }
      },
      "source": [
        "n=10000\n",
        "count = 0   #contador de 21's\n",
        "avnc = 0    #numero total de cartas\n",
        "nc21=[]     #numero de cartas utilizadas para hacer 21\n",
        "\n",
        "for i in range(n):\n",
        "  spanishDeck = [1,2,3,4,5,6,7,10,11,12,1,2,3,4,5,6,7,8,9,10,11,12,1,2,3,4,5,6,8,9,10,11,12,1,2,3,4,6,8,9,10,11,12] #removed 7,7,5\n",
        "  pokerDeck = [1,2,3,4,5,6,7,8,9,10,11,12,13,1,2,3,4,5,6,7,8,9,10,11,12,13,1,2,3,4,5,6,8,9,10,11,12,13,1,2,3,4,6,8,9,10,11,12,13] #removed 7,7,5\n",
        "  nc = 0     #numero de cartas en la mano\n",
        "  deck=spanishDeck #escogencia de baraja a utilizar\n",
        "  limite = 0 #variable que define hasta que número de cartas se van a eliminar\n",
        "  if len(deck)==52:\n",
        "    limite = 26\n",
        "  else:\n",
        "    limite = 17\n",
        "  #se remueven aleatoriamente n/2 elementos de la baraja (teniendo en cuenta que ya se eliminaron 7,7,5)\n",
        "  for j in range(limite):\n",
        "    cardAux = random.choice(deck)\n",
        "    deck.remove(cardAux)\n",
        "\n",
        "  my_cards = [7,7,5]\n",
        "\n",
        "  while(sum(my_cards)<21):\n",
        "      card = random.choice(deck)\n",
        "      my_cards.append(card)\n",
        "      deck.remove(card)\n",
        "      nc=nc+1\n",
        "  if (sum(my_cards)==21):\n",
        "      count=count+1\n",
        "      avnc = avnc+nc\n",
        "      nc21.append(nc)\n",
        "      \n",
        "print(\"21 probability\", count/n,\"Average # cards\", avnc/count )\n",
        "plt.hist(nc21,density=True,bins=30)\n",
        "plt.show()"
      ],
      "execution_count": null,
      "outputs": [
        {
          "output_type": "stream",
          "text": [
            "21 probability 0.1017 Average # cards 1.0747295968534907\n"
          ],
          "name": "stdout"
        },
        {
          "output_type": "display_data",
          "data": {
            "image/png": "[encoded data removed]",
            "text/plain": [
              "<Figure size 432x288 with 1 Axes>"
            ]
          },
          "metadata": {
            "tags": [],
            "needs_background": "light"
          }
        }
      ]
    },
    {
      "cell_type": "markdown",
      "metadata": {
        "id": "0Q-ypzijku1C"
      },
      "source": [
        "4. Find remaining decks for Spanish and Poker card decks, with 8 cards according to the list below, with highest (hot deck) and lowest (cold deck) probabilities of getting 21 assuming that you have cards [7,7,5]. calculate the probabilities analytically and verify them with Montecarlo. Plot the experimental distribution of the numbers of card requires to complete 21 in 10000 simulations.\n",
        "\n",
        "\n",
        "\n"
      ]
    },
    {
      "cell_type": "code",
      "metadata": {
        "id": "k3CSLrrgkvYp",
        "outputId": "cafd3b6c-27a5-4d6f-e800-c7999eb87265",
        "colab": {
          "base_uri": "https://localhost:8080/",
          "height": 581
        }
      },
      "source": [
        "n=10000\n",
        "countCold = 0 #contador de la baraja fria\n",
        "countHot = 0  #contador de la baraja caliente\n",
        "avncCold = 0  \n",
        "avncHot = 0\n",
        "ncCold21=[]   # cantidad de cartas en la baraja cold que dieron 21 \n",
        "ncHot21=[]    # cantidad de cartas en la baraja hot que dieron 21 \n",
        "\n",
        "for i in range(n):\n",
        "  spanishDeck = [1,2,3,4,5,6,7,10,11,12,1,2,3,4,5,6,7,8,9,10,11,12,1,2,3,4,5,6,8,9,10,11,12,1,2,3,4,6,8,9,10,11,12] #removed 7,7,5\n",
        "  pokerDeck = [1,2,3,4,5,6,7,8,9,10,11,12,13,1,2,3,4,5,6,7,8,9,10,11,12,13,1,2,3,4,5,6,8,9,10,11,12,13,1,2,3,4,6,8,9,10,11,12,13] #removed 7,7,5\n",
        "  \n",
        "  ncCold = 0 #numero de cartas en baraja fria \n",
        "  ncHot = 0 #numero de cartas en baraja caliente\n",
        "  \n",
        "  deck=spanishDeck\n",
        "\n",
        "  deck.sort() # ordena la baraja de menor a mayor e.g [1,1,1,1,2,2,2,2,3,...]\n",
        "\n",
        "  coldDeck = []\n",
        "  hotDeck = []\n",
        "\n",
        "  # crea el cold deck a partir de los últimos elementos de la baraja ordenada\n",
        "  for j in range(8):\n",
        "    coldDeck.append(deck.pop())\n",
        "  \n",
        "  # crea el hot deck con los primeros 8 elementos de la baraja\n",
        "  hotDeck = deck[:8]\n",
        "  \n",
        "  my_cards = [7,7,5]\n",
        "  \n",
        "  # cold deck process\n",
        "  while(sum(my_cards)<21):\n",
        "      card = random.choice(coldDeck)\n",
        "      my_cards.append(card)\n",
        "      coldDeck.remove(card)\n",
        "      ncCold+=1\n",
        "  \n",
        "  if (sum(my_cards)==21):\n",
        "      countCold += 1\n",
        "      avncCold += ncCold\n",
        "      ncCold21.append(ncCold)\n",
        "\n",
        "  # hot deck process\n",
        "  my_cards = [7,7,5]\n",
        "  while(sum(my_cards)<21):\n",
        "      card = random.choice(hotDeck)\n",
        "      my_cards.append(card)\n",
        "      hotDeck.remove(card)\n",
        "      ncHot+=1\n",
        "      ncHot21.append(ncHot)\n",
        "\n",
        "  if (sum(my_cards)==21):\n",
        "      countHot+= 1\n",
        "      avncHot += ncHot\n",
        "      ncHot21.append(ncHot)\n",
        "  \n",
        "  \n",
        "print(\"21 Cold Deck probability\", countCold/n,\"Average # cards 0\",  \"(no cards found)\")\n",
        "plt.hist(nc21,density=True,bins=30)\n",
        "plt.show()\n",
        "\n",
        "print(\"21 Hot Deck probability\", countHot/n,\"Average # cards\", avncHot/countHot )\n",
        "plt.hist(ncHot21,density=True,bins=30)\n",
        "plt.show()\n"
      ],
      "execution_count": null,
      "outputs": [
        {
          "output_type": "stream",
          "text": [
            "21 Cold Deck probability 0.0 Average # cards 0 (no cards found)\n"
          ],
          "name": "stdout"
        },
        {
          "output_type": "stream",
          "text": [
            "/usr/local/lib/python3.6/dist-packages/numpy/lib/histograms.py:908: RuntimeWarning: invalid value encountered in true_divide\n",
            "  return n/db/n.sum(), bin_edges\n"
          ],
          "name": "stderr"
        },
        {
          "output_type": "display_data",
          "data": {
            "image/png": "[encoded data removed]",
            "text/plain": [
              "<Figure size 432x288 with 1 Axes>"
            ]
          },
          "metadata": {
            "tags": [],
            "needs_background": "light"
          }
        },
        {
          "output_type": "stream",
          "text": [
            "21 Hot Deck probability 0.7241 Average # cards 1.2985775445380472\n"
          ],
          "name": "stdout"
        },
        {
          "output_type": "display_data",
          "data": {
            "image/png": "[encoded data removed]",
            "text/plain": [
              "<Figure size 432x288 with 1 Axes>"
            ]
          },
          "metadata": {
            "tags": [],
            "needs_background": "light"
          }
        }
      ]
    },
    {
      "cell_type": "markdown",
      "metadata": {
        "id": "arV-77TArQkY"
      },
      "source": [
        "5. Estimate the average amount of money (expected value) that Ben wins or losses on a weekend if Ben goes to Vegas every weekend (Friday, Saturday and Sunday), plays every weekend day 10 hours, each game takes 3 mins. Assume that for each game he gets two possibilities, in one he gets in his hand the cards [7,7,5] and a remaining hot deck with 8 cards in which case he bets \n",
        "$\\$1000$ this happens with probability 1/10; in the other one he gets no cards in his hand a complete shuffled deck in which case he bets $\\$10$, this happens with the remaining probability 9/10. Use 10000 Montecarlo simulations to estimated the expected amount of money that Ben wins or losses on a weekend for a Spanish 48-card deck with 3 10’s and for a Poker 52-card deck with 4 10’s.\n"
      ]
    },
    {
      "cell_type": "code",
      "metadata": {
        "id": "bpI-bMdrlhcM",
        "outputId": "3fdebece-81e0-4dfd-d851-477c580a5491",
        "colab": {
          "base_uri": "https://localhost:8080/",
          "height": 598
        }
      },
      "source": [
        "n=10000\n",
        "countSpanish = 0  # contador spanish deck\n",
        "countPoker = 0    # contador poker deck\n",
        "avncSpanish = 0   # av cantidad de cartas spanish\n",
        "avncPoker = 0     # av cantidad de cartas poker\n",
        "\n",
        "ncSpanish=[]\n",
        "ncPoker=[]\n",
        "ncSpanish21 = []\n",
        "ncPoker21 = []\n",
        "\n",
        "profitsSpanish = 0\n",
        "profitsPoker = 0\n",
        "\n",
        "my_cards_spanish = []\n",
        "my_cards_poker = []\n",
        "\n",
        "for i in range(n):\n",
        "  isCold = True # flag si es una baraja fria o caliente\n",
        "  spanishDeck = [1,2,3,4,5,6,7,10,11,12,1,2,3,4,5,6,7,8,9,10,11,12,1,2,3,4,5,6,7,8,9,10,11,12,1,2,3,4,5,6,7,8,9,10,11,12] \n",
        "  pokerDeck = [1,2,3,4,5,6,7,8,9,10,11,12,13,1,2,3,4,5,6,7,8,9,10,11,12,13,1,2,3,4,5,6,7,8,9,10,11,12,13,1,2,3,4,5,6,7,8,9,10,11,12,13] \n",
        "  ncSpanish = 0\n",
        "  ncPoker = 0\n",
        "\n",
        "  spanishDeck.sort()\n",
        "  pokerDeck.sort()\n",
        "\n",
        "  # Se da la probabilidad de que caiga una baraja caliente\n",
        "  if(random.randint(1,10)==1):  \n",
        "    my_cards_spanish = [7,7,5]\n",
        "    my_cards_poker = [7,7,5]\n",
        "    # se remueven los 7,7,5 de las dos barajas\n",
        "    spanishDeck.remove(7)\n",
        "    spanishDeck.remove(7)    \n",
        "    spanishDeck.remove(5)\n",
        "    pokerDeck.remove(7)\n",
        "    pokerDeck.remove(7)\n",
        "    pokerDeck.remove(5)\n",
        "\n",
        "    isCold = False\n",
        "\n",
        "    profitsSpanish -= 1000   # aqui se apuesta los 1000 de hot deck spanish\n",
        "    profitsPoker -= 1000   # aqui se apuesta los 1000 de hot deck poker\n",
        "    pokerDeck = pokerDeck[:8]\n",
        "    spanishDeck = spanishDeck[:8]\n",
        "    \n",
        "  else:\n",
        "    profitsSpanish -= 10     # aqui se apuesta los 10 de cold deck spanish\n",
        "    profitsPoker -= 10     # aqui se apuesta los 10 de cold deck poker\n",
        "    isCold = True\n",
        "    my_cards_spanish = []\n",
        "    my_cards_poker = []\n",
        "  \n",
        "  while(sum(my_cards_spanish)<21):\n",
        "      card = random.choice(spanishDeck)\n",
        "      my_cards_spanish.append(card)\n",
        "      spanishDeck.remove(card)\n",
        "      ncSpanish+=1\n",
        "  while(sum(my_cards_poker)<21):\n",
        "      card = random.choice(pokerDeck)\n",
        "      my_cards_poker.append(card)\n",
        "      pokerDeck.remove(card)\n",
        "      ncPoker+=1\n",
        "  if (sum(my_cards_spanish)==21):\n",
        "    if isCold:\n",
        "      profitsSpanish += 20   # ganancias si es cold deck\n",
        "    else:\n",
        "      profitsSpanish += 2000 # ganancias si es hot deck\n",
        "    countSpanish+=1\n",
        "    avncSpanish+=ncSpanish\n",
        "    ncSpanish21.append(ncSpanish)\n",
        "  \n",
        "  if (sum(my_cards_poker)==21):\n",
        "    if isCold:\n",
        "      profitsPoker += 20   # entradas si es cold deck\n",
        "    else:\n",
        "      profitsPoker += 2000 # entradas si es hot deck\n",
        "    countPoker+=1\n",
        "    avncPoker+=ncPoker\n",
        "    ncPoker21.append(ncPoker)\n",
        "\n",
        "print(\"Distribución de cartas en 10000 simulaciones\")    \n",
        "print(\"21 probability with Spanish Deck\", countSpanish/n,\"Average # cards:\", avncSpanish/countSpanish)\n",
        "plt.hist(ncSpanish21,density=True,bins=30)\n",
        "plt.show()\n",
        "print(\"Spanish deck Profits: \",profitsSpanish)\n",
        "\n",
        "print(\"21 probability with Poker Deck\", countPoker/n,\"Average # cards:\", avncPoker/countPoker)\n",
        "plt.hist(ncPoker21,density=True,bins=30)\n",
        "plt.show()\n",
        "print(\"Poker deck Profits: \",profitsPoker)\n"
      ],
      "execution_count": null,
      "outputs": [
        {
          "output_type": "stream",
          "text": [
            "Distribución de cartas en 10000 simulaciones\n",
            "21 probability with Spanish Deck 0.2135 Average # cards: 2.76768149882904\n"
          ],
          "name": "stdout"
        },
        {
          "output_type": "display_data",
          "data": {
            "image/png": "[encoded data removed]",
            "text/plain": [
              "<Figure size 432x288 with 1 Axes>"
            ]
          },
          "metadata": {
            "tags": [],
            "needs_background": "light"
          }
        },
        {
          "output_type": "stream",
          "text": [
            "Spanish deck Profits:  330780\n",
            "21 probability with Poker Deck 0.2048 Average # cards: 2.5380859375\n"
          ],
          "name": "stdout"
        },
        {
          "output_type": "display_data",
          "data": {
            "image/png": "[encoded data removed]",
            "text/plain": [
              "<Figure size 432x288 with 1 Axes>"
            ]
          },
          "metadata": {
            "tags": [],
            "needs_background": "light"
          }
        },
        {
          "output_type": "stream",
          "text": [
            "Poker deck Profits:  370620\n"
          ],
          "name": "stdout"
        }
      ]
    },
    {
      "cell_type": "code",
      "metadata": {
        "id": "ueEGJQLOkgZB"
      },
      "source": [
        ""
      ],
      "execution_count": null,
      "outputs": []
    }
  ]
}