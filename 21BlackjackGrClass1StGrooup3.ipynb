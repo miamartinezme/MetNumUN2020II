{
  "nbformat": 4,
  "nbformat_minor": 0,
  "metadata": {
    "colab": {
      "name": "laboratorio 4.ipynb",
      "provenance": [],
      "collapsed_sections": []
    },
    "kernelspec": {
      "name": "python3",
      "display_name": "Python 3"
    }
  },
  "cells": [
    {
      "cell_type": "markdown",
      "metadata": {
        "id": "xp6tj7TZ6JzY"
      },
      "source": [
        "1. Calculate the probability of getting a 21 drawing cards sequentially from shuffled Spanish 48-deck with card values [1,2,3,4,5,6,7,10,11,12,1,2,3,4,5,6,7,8,9,10,11,12,1,2,3,4,5,6,7,8,9,10,11,12,1,2,3,4,5,6,7,8,9,10,11,12] and from a shuffled Poker 52-card with card values [1,2,3,4,5,6,7,8,9,10,11,12,13,1,2,3,4,5,6,7,8,9,10,11,12,13,1,2,3,4,5,6,7,8,9,10,11,12,13,1,2,3,4,5,6,7,8,9,10,11,12,13]. Plot the experimental distribution of the numbers of card requires to complete 21 in 10000 trials.\n",
        "A n-card deck is shuffled if t all possible n! decks have equal probability 1/n! or equivalently if when choosing any card of the shuffled deck all n cards have the same probability 1/n of appearing.\n",
        "Hint: Instead of shuffling the card deck an drawing sequentially it is equivalent to have a sorted list representing the cards and draw cards randomly located from that list with random.choice(list)."
      ]
    },
    {
      "cell_type": "code",
      "metadata": {
        "id": "MUDODitWMfp9",
        "outputId": "b634f0a1-571e-4892-9d0f-9a270a6f1a55",
        "colab": {
          "base_uri": "https://localhost:8080/",
          "height": 282
        }
      },
      "source": [
        "import random \n",
        "import matplotlib.pyplot as plt\n",
        "\n",
        "n=10000000\n",
        "count = 0   #contador de 21's\n",
        "avnc = 0    #numero total de cartas\n",
        "nc21=[]     #numero de cartas utilizadas para hacer 21\n",
        "\n",
        "for i in range(n):\n",
        "  spanishDeck = [1,2,3,4,5,6,7,10,11,12,1,2,3,4,5,6,7,8,9,10,11,12,1,2,3,4,5,6,7,8,9,10,11,12,1,2,3,4,5,6,7,8,9,10,11,12]\n",
        "  pokerDeck = [1,2,3,4,5,6,7,8,9,10,11,12,13,1,2,3,4,5,6,7,8,9,10,11,12,13,1,2,3,4,5,6,7,8,9,10,11,12,13,1,2,3,4,5,6,7,8,9,10,11,12,13]\n",
        "  my_cards = [] #cartas actuales en la mano\n",
        "  nc = 0        #numero de cartas en la mano\n",
        "  deck=spanishDeck #escogencia de la baraja a utilizar\n",
        "\n",
        "  while(sum(my_cards)<21):\n",
        "      card = random.choice(deck)\n",
        "      my_cards.append(card)\n",
        "      deck.remove(card)\n",
        "      nc=nc+1\n",
        "      \n",
        "  if (sum(my_cards)==21):\n",
        "      count=count+1\n",
        "      avnc = avnc+nc\n",
        "      nc21.append(nc)\n",
        "\n",
        "print(\"21 probability\", count/n,\"Average # cards\", avnc/count )\n",
        "plt.hist(nc21,density=True,bins=30)\n",
        "plt.show()"
      ],
      "execution_count": null,
      "outputs": [
        {
          "output_type": "stream",
          "text": [
            "21 probability 0.1587708 Average # cards 3.4777459079377318\n"
          ],
          "name": "stdout"
        },
        {
          "output_type": "display_data",
          "data": {
            "image/png": "[encoded data removed]",
            "text/plain": [
              "<Figure size 432x288 with 1 Axes>"
            ]
          },
          "metadata": {
            "tags": [],
            "needs_background": "light"
          }
        }
      ]
    },
    {
      "cell_type": "markdown",
      "metadata": {
        "id": "5xDLIUe8kVVw"
      },
      "source": [
        "2. Calculate the probability of getting a 21 drawing cards sequentially from shuffled Spanish 48-deck with card values are [1,2,3,4,5,6,7,8,9,,10,10,10,1,2,3,4,5,6,7,8,9,,10,10,10,1,2,3,4,5,6,7,8,9,10,10,10,1,2,3,4,5,6,7,8,9,,10,10,10] and [1,2,3,4,5,6,7,8,9,10,10,10,10,1,2,3,4,5,6,7,8,9,10,10,10,10,1,2,3,4,5,6,7,8,9,10,10,10,10,1,2,3,4,5,6,7,8,9,10,10,10,10] for the Spanish and Poker card decks. Plot the experimental distribution of the numbers of card requires to complete 21 in 10000 simulations."
      ]
    },
    {
      "cell_type": "code",
      "metadata": {
        "id": "aiM6N6QiPWGV",
        "outputId": "e4cf0712-f061-4793-97c6-36a43b9246eb",
        "colab": {
          "base_uri": "https://localhost:8080/",
          "height": 282
        }
      },
      "source": [
        "\n",
        "n=10000000\n",
        "count = 0   #contador de 21's\n",
        "avnc = 0    #numero total de cartas\n",
        "nc21=[]     #numero de cartas utilizadas para hacer 21\n",
        "\n",
        "for i in range(n):\n",
        "  \n",
        "  auxDeckSpanish = [1,2,3,4,5,6,7,8,9,10,10,10,1,2,3,4,5,6,7,8,9,10,10,10,1,2,3,4,5,6,7,8,9,10,10,10,1,2,3,4,5,6,7,8,9,10,10,10]\n",
        "  auxDeckPoker = [1,2,3,4,5,6,7,8,9,10,10,10,10,1,2,3,4,5,6,7,8,9,10,10,10,10,1,2,3,4,5,6,7,8,9,10,10,10,10,1,2,3,4,5,6,7,8,9,10,10,10,10]\n",
        "  my_cards = [] #cartas actuales en la mano\n",
        "  nc = 0        #numero de cartas en la mano\n",
        "  deck=auxDeckSpanish #escogencia de la baraja a utilizar\n",
        "\n",
        "  while(sum(my_cards)<21):\n",
        "      card = random.choice(deck)\n",
        "      my_cards.append(card)\n",
        "      deck.remove(card)\n",
        "      nc=nc+1\n",
        "\n",
        "  if (sum(my_cards)==21):\n",
        "      count=count+1\n",
        "      avnc = avnc+nc\n",
        "      nc21.append(nc)\n",
        "\n",
        "print(\"21 probability\", count/n,\"Average # cards\", avnc/count )\n",
        "plt.hist(nc21,density=True,bins=30)\n",
        "plt.show()"
      ],
      "execution_count": null,
      "outputs": [
        {
          "output_type": "stream",
          "text": [
            "21 probability 0.1495184 Average # cards 3.698878532675577\n"
          ],
          "name": "stdout"
        },
        {
          "output_type": "display_data",
          "data": {
            "image/png": "[encoded data removed]",
            "text/plain": [
              "<Figure size 432x288 with 1 Axes>"
            ]
          },
          "metadata": {
            "tags": [],
            "needs_background": "light"
          }
        }
      ]
    },
    {
      "cell_type": "markdown",
      "metadata": {
        "id": "DYJp39y3ges_"
      },
      "source": [
        "3. Calculate the probability of getting a 21, with the Spanish and Poker card deck, assuming that you are in the middle of game and the remaining deck has n/2 card and you have the cards [7,7,5]. You pick arbitrary what card are in the remaining deck with the only restriction that there are be maximum two 7s and three 5s). Plot the experimental distribution of the numbers of card requires to complete 21 in 10000000 simulations."
      ]
    },
    {
      "cell_type": "code",
      "metadata": {
        "id": "et-AJlPoP9rf",
        "outputId": "c7c9d067-b6e0-48be-9f0a-184d56d26b3e",
        "colab": {
          "base_uri": "https://localhost:8080/",
          "height": 282
        }
      },
      "source": [
        "n=10000000\n",
        "count = 0   #contador de 21's\n",
        "avnc = 0    #numero total de cartas\n",
        "nc21=[]     #numero de cartas utilizadas para hacer 21\n",
        "\n",
        "for i in range(n):\n",
        "  spanishDeck = [1,2,3,4,5,6,7,10,11,12,1,2,3,4,5,6,7,8,9,10,11,12,1,2,3,4,5,6,8,9,10,11,12,1,2,3,4,6,8,9,10,11,12] #removed 7,7,5\n",
        "  pokerDeck = [1,2,3,4,5,6,7,8,9,10,11,12,13,1,2,3,4,5,6,7,8,9,10,11,12,13,1,2,3,4,5,6,8,9,10,11,12,13,1,2,3,4,6,8,9,10,11,12,13] #removed 7,7,5\n",
        "  nc = 0     #numero de cartas en la mano\n",
        "  deck=spanishDeck #escogencia de baraja a utilizar\n",
        "  limite = 0 #variable que define hasta que número de cartas se van a eliminar\n",
        "  if len(deck)==52:\n",
        "    limite = 26\n",
        "  else:\n",
        "    limite = 17\n",
        "  #se remueven aleatoriamente n/2 elementos de la baraja (teniendo en cuenta que ya se eliminaron 7,7,5)\n",
        "  for j in range(limite):\n",
        "    cardAux = random.choice(deck)\n",
        "    deck.remove(cardAux)\n",
        "\n",
        "  my_cards = [7,7,5]\n",
        "\n",
        "  while(sum(my_cards)<21):\n",
        "      card = random.choice(deck)\n",
        "      my_cards.append(card)\n",
        "      deck.remove(card)\n",
        "      nc=nc+1\n",
        "  if (sum(my_cards)==21):\n",
        "      count=count+1\n",
        "      avnc = avnc+nc\n",
        "      nc21.append(nc)\n",
        "      \n",
        "print(\"21 probability\", count/n,\"Average # cards\", avnc/count )\n",
        "plt.hist(nc21,density=True,bins=30)\n",
        "plt.show()"
      ],
      "execution_count": null,
      "outputs": [
        {
          "output_type": "stream",
          "text": [
            "21 probability 0.0997468 Average # cards 1.0667760770270325\n"
          ],
          "name": "stdout"
        },
        {
          "output_type": "display_data",
          "data": {
            "image/png": "[encoded data removed]",
            "text/plain": [
              "<Figure size 432x288 with 1 Axes>"
            ]
          },
          "metadata": {
            "tags": [],
            "needs_background": "light"
          }
        }
      ]
    },
    {
      "cell_type": "markdown",
      "metadata": {
        "id": "0Q-ypzijku1C"
      },
      "source": [
        "4. Find two remaining decks with 8 cards for a Spanish 48-card deck with 3 10’s and for a Poker 52-card deck with 4 10’s; one remaining deck with 8 cards that has the highest probability of getting 21 (hot deck) and the other remaining deck with 8 cards that has the lowest probability of getting 21(cold deck). Assuming that you have in your hand the cards [7,7,5], calculate analytically the probabilities of getting a 21 for both the hot an cold deck, estimate this probabilities of getting a 21, the average total number of cards required to complete 21 (including the three that you start with) and plot the experimental distribution of the total number of card required to complete 21 (including the three that you start with) using Montecarlo with 10 millions simulations.\n",
        "\n",
        "**Analitically**\n",
        "\n",
        "  Analytical probability of a hot deck with 12 cards is 4/12 + (4/12 * 3/11) = 0.4242 = 42%\n",
        "\n",
        "  Analytical probability of a hot deck with 10 cards is 4/10 + (4/10 * 3/9) = 0.53333 = 53%\n",
        "\n",
        "  Analytical probability of a cold deck with 12 cards is  (4/12 * 3/11)  = 0,0909 = 9.09%\n",
        "\n",
        "  Analytical probability of a cold deck with 10 cards is (4/10 * 3/9)  = 0.133333 = 13.3%\n",
        "\n",
        "\n",
        "\n"
      ]
    },
    {
      "cell_type": "code",
      "metadata": {
        "id": "k3CSLrrgkvYp",
        "outputId": "e843cbfa-6c80-4e3b-9a2e-3ff594ccfa4c",
        "colab": {
          "base_uri": "https://localhost:8080/",
          "height": 581
        }
      },
      "source": [
        "n=10000000\n",
        "countCold = 0 #contador de la baraja fria\n",
        "countHot = 0  #contador de la baraja caliente\n",
        "avncCold = 0  \n",
        "avncHot = 0\n",
        "ncCold21=[]   # cantidad de cartas en la baraja cold que dieron 21 \n",
        "ncHot21=[]    # cantidad de cartas en la baraja hot que dieron 21 \n",
        "\n",
        "for i in range(n):\n",
        "  spanishDeck = [1,2,3,4,5,6,7,10,10,10,1,2,3,4,5,6,7,8,9,10,10,10,1,2,3,4,5,6,8,9,10,10,10,1,2,3,4,6,8,9,10,10,10] #removed 7,7,5 and added 10's \n",
        "  pokerDeck = [1,2,3,4,5,6,7,8,9,10,10,10,10,1,2,3,4,5,6,7,8,9,10,10,10,10,1,2,3,4,5,6,8,9,10,10,10,10,1,2,3,4,6,8,9,10,10,10,10] #removed 7,7,5 and added 10's\n",
        "  \n",
        "  ncCold = 0 #numero de cartas en baraja fria \n",
        "  ncHot = 0 #numero de cartas en baraja caliente\n",
        "  \n",
        "  deck=spanishDeck\n",
        "\n",
        "  deck.sort() # ordena la baraja de menor a mayor e.g [1,1,1,1,2,2,2,2,3,...]\n",
        "\n",
        "  coldDeck = []\n",
        "  hotDeck = []\n",
        "\n",
        "  # crea el cold deck a partir de los últimos elementos de la baraja ordenada\n",
        "  for j in range(8):\n",
        "    coldDeck.append(deck.pop())\n",
        "  \n",
        "  # crea el hot deck con los primeros 8 elementos de la baraja\n",
        "  hotDeck = deck[:8]\n",
        "  \n",
        "  my_cards = [7,7,5]\n",
        "  ncCold = 3\n",
        "  # cold deck process\n",
        "  while(sum(my_cards)<21):\n",
        "      card = random.choice(coldDeck)\n",
        "      my_cards.append(card)\n",
        "      coldDeck.remove(card)\n",
        "      ncCold+=1\n",
        "  \n",
        "  if (sum(my_cards)==21):\n",
        "      countCold += 1\n",
        "      avncCold += ncCold\n",
        "      ncCold21.append(ncCold)\n",
        "\n",
        "  # hot deck process\n",
        "  ncHot = 3\n",
        "  my_cards = [7,7,5]\n",
        "  while(sum(my_cards)<21):\n",
        "      card = random.choice(hotDeck)\n",
        "      my_cards.append(card)\n",
        "      hotDeck.remove(card)\n",
        "      ncHot+=1\n",
        "      ncHot21.append(ncHot)\n",
        "\n",
        "  if (sum(my_cards)==21):\n",
        "      countHot+= 1\n",
        "      avncHot += ncHot\n",
        "      ncHot21.append(ncHot)\n",
        "  \n",
        "  \n",
        "print(\"21 Cold Deck probability\", countCold/n,\"Average # cards 0\",  \"(no cards found)\")\n",
        "plt.hist(ncCold21,density=True,bins=30)\n",
        "plt.show()\n",
        "\n",
        "print(\"21 Hot Deck probability\", countHot/n,\"Average # cards\", avncHot/countHot )\n",
        "plt.hist(ncHot21,density=True,bins=30)\n",
        "plt.show()\n"
      ],
      "execution_count": null,
      "outputs": [
        {
          "output_type": "stream",
          "text": [
            "21 Cold Deck probability 0.0 Average # cards 0 (no cards found)\n"
          ],
          "name": "stdout"
        },
        {
          "output_type": "stream",
          "text": [
            "/usr/local/lib/python3.6/dist-packages/numpy/lib/histograms.py:908: RuntimeWarning: invalid value encountered in true_divide\n",
            "  return n/db/n.sum(), bin_edges\n"
          ],
          "name": "stderr"
        },
        {
          "output_type": "display_data",
          "data": {
            "image/png": "[encoded data removed]",
            "text/plain": [
              "<Figure size 432x288 with 1 Axes>"
            ]
          },
          "metadata": {
            "tags": [],
            "needs_background": "light"
          }
        },
        {
          "output_type": "stream",
          "text": [
            "21 Hot Deck probability 0.714381 Average # cards 4.300264564707068\n"
          ],
          "name": "stdout"
        },
        {
          "output_type": "display_data",
          "data": {
            "image/png": "[encoded data removed]",
            "text/plain": [
              "<Figure size 432x288 with 1 Axes>"
            ]
          },
          "metadata": {
            "tags": [],
            "needs_background": "light"
          }
        }
      ]
    },
    {
      "cell_type": "markdown",
      "metadata": {
        "id": "arV-77TArQkY"
      },
      "source": [
        "5. Estimate the average amount of money (expected value) that Ben wins or losses on a weekend if Ben goes to Vegas every weekend (Friday, Saturday and Sunday), plays every weekend day 10 hours, each game takes 3 mins. Assume that for each game he gets two possibilities, in one he gets in his hand the cards [7,7,5] and a remaining hot deck with 8 cards in which case he bets \n",
        "$\\$1000$ this happens with probability 1/10; in the other one he gets no cards in his hand a complete shuffled deck in which case he bets $\\$10$, this happens with the remaining probability 9/10. Use 10000 Montecarlo simulations to estimated the expected amount of money that Ben wins or losses on a weekend for a Spanish 48-card deck with 3 10’s and for a Poker 52-card deck with 4 10’s.\n"
      ]
    },
    {
      "cell_type": "code",
      "metadata": {
        "id": "bpI-bMdrlhcM",
        "outputId": "e36222fd-c726-47b0-a65a-80a15fa75e57",
        "colab": {
          "base_uri": "https://localhost:8080/",
          "height": 598
        }
      },
      "source": [
        "n=10000\n",
        "countSpanish = 0  # contador spanish deck\n",
        "countPoker = 0    # contador poker deck\n",
        "avncSpanish = 0   # av cantidad de cartas spanish\n",
        "avncPoker = 0     # av cantidad de cartas poker\n",
        "\n",
        "ncSpanish=[]\n",
        "ncPoker=[]\n",
        "ncSpanish21 = []\n",
        "ncPoker21 = []\n",
        "\n",
        "profitsSpanish = 0\n",
        "profitsPoker = 0\n",
        "\n",
        "my_cards_spanish = []\n",
        "my_cards_poker = []\n",
        "\n",
        "for i in range(n):\n",
        "  isCold = True # flag si es una baraja fria o caliente\n",
        "  spanishDeck = [1,2,3,4,5,6,7,10,10,10,1,2,3,4,5,6,7,8,9,10,10,10,1,2,3,4,5,6,7,8,9,10,10,10,1,2,3,4,5,6,7,8,9,10,10,10] \n",
        "  pokerDeck = [1,2,3,4,5,6,7,8,9,10,10,10,10,1,2,3,4,5,6,7,8,9,10,10,10,10,1,2,3,4,5,6,7,8,9,10,10,10,10,1,2,3,4,5,6,7,8,9,10,10,10,10] \n",
        "  ncSpanish = 0\n",
        "  ncPoker = 0\n",
        "\n",
        "  spanishDeck.sort()\n",
        "  pokerDeck.sort()\n",
        "\n",
        "  # Cuando cae una baraja caliente\n",
        "  if(random.randint(1,10)==1):  \n",
        "    my_cards_spanish = [7,7,5]\n",
        "    my_cards_poker = [7,7,5]\n",
        "    # se remueven los 7,7,5 de las dos barajas\n",
        "    spanishDeck.remove(7)\n",
        "    spanishDeck.remove(7)    \n",
        "    spanishDeck.remove(5)\n",
        "    pokerDeck.remove(7)\n",
        "    pokerDeck.remove(7)\n",
        "    pokerDeck.remove(5)\n",
        "\n",
        "    isCold = False\n",
        "\n",
        "    profitsSpanish -= 1000   # aqui se apuesta los 1000 de hot deck spanish\n",
        "    profitsPoker -= 1000   # aqui se apuesta los 1000 de hot deck poker\n",
        "    pokerDeck = pokerDeck[:8]\n",
        "    spanishDeck = spanishDeck[:8]\n",
        "  # Cuando cae una baraja fria  \n",
        "  else:\n",
        "    profitsSpanish -= 10     # aqui se apuesta los 10 de cold deck spanish\n",
        "    profitsPoker -= 10     # aqui se apuesta los 10 de cold deck poker\n",
        "    isCold = True\n",
        "    my_cards_spanish = []\n",
        "    my_cards_poker = []\n",
        "  \n",
        "  while(sum(my_cards_spanish)<21):\n",
        "      card = random.choice(spanishDeck)\n",
        "      my_cards_spanish.append(card)\n",
        "      spanishDeck.remove(card)\n",
        "      ncSpanish+=1\n",
        "  while(sum(my_cards_poker)<21):\n",
        "      card = random.choice(pokerDeck)\n",
        "      my_cards_poker.append(card)\n",
        "      pokerDeck.remove(card)\n",
        "      ncPoker+=1\n",
        "  if (sum(my_cards_spanish)==21):\n",
        "    if isCold:\n",
        "      profitsSpanish += 20   # ganancias si es cold deck\n",
        "    else:\n",
        "      profitsSpanish += 2000 # ganancias si es hot deck\n",
        "    countSpanish+=1\n",
        "    avncSpanish+=ncSpanish\n",
        "    ncSpanish21.append(ncSpanish)\n",
        "  \n",
        "  if (sum(my_cards_poker)==21):\n",
        "    if isCold:\n",
        "      profitsPoker += 20   # entradas si es cold deck\n",
        "    else:\n",
        "      profitsPoker += 2000 # entradas si es hot deck\n",
        "    countPoker+=1\n",
        "    avncPoker+=ncPoker\n",
        "    ncPoker21.append(ncPoker)\n",
        "\n",
        "print(\"Distribución de cartas en 10000 simulaciones\")    \n",
        "print(\"21 probability with Spanish Deck\", countSpanish/n,\"Average # cards:\", avncSpanish/countSpanish)\n",
        "plt.hist(ncSpanish21,density=True,bins=30)\n",
        "plt.show()\n",
        "print(\"Spanish deck Profits: \",profitsSpanish)\n",
        "\n",
        "print(\"21 probability with Poker Deck\", countPoker/n,\"Average # cards:\", avncPoker/countPoker)\n",
        "plt.hist(ncPoker21,density=True,bins=30)\n",
        "plt.show()\n",
        "print(\"Poker deck Profits: \",profitsPoker)\n"
      ],
      "execution_count": null,
      "outputs": [
        {
          "output_type": "stream",
          "text": [
            "Distribución de cartas en 10000 simulaciones\n",
            "21 probability with Spanish Deck 0.2039 Average # cards: 2.931829328102011\n"
          ],
          "name": "stdout"
        },
        {
          "output_type": "display_data",
          "data": {
            "image/png": "[encoded data removed]",
            "text/plain": [
              "<Figure size 432x288 with 1 Axes>"
            ]
          },
          "metadata": {
            "tags": [],
            "needs_background": "light"
          }
        },
        {
          "output_type": "stream",
          "text": [
            "Spanish deck Profits:  351630\n",
            "21 probability with Poker Deck 0.1952 Average # cards: 2.7730532786885247\n"
          ],
          "name": "stdout"
        },
        {
          "output_type": "display_data",
          "data": {
            "image/png": "[encoded data removed]",
            "text/plain": [
              "<Figure size 432x288 with 1 Axes>"
            ]
          },
          "metadata": {
            "tags": [],
            "needs_background": "light"
          }
        },
        {
          "output_type": "stream",
          "text": [
            "Poker deck Profits:  341970\n"
          ],
          "name": "stdout"
        }
      ]
    },
    {
      "cell_type": "code",
      "metadata": {
        "id": "ueEGJQLOkgZB"
      },
      "source": [
        ""
      ],
      "execution_count": null,
      "outputs": []
    }
  ]
}